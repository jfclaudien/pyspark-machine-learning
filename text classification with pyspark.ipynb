{
 "cells": [
  {
   "cell_type": "code",
   "execution_count": 1,
   "id": "d5505cbb",
   "metadata": {},
   "outputs": [],
   "source": [
    "from pyspark.sql import SparkSession"
   ]
  },
  {
   "cell_type": "code",
   "execution_count": 3,
   "id": "b6348454",
   "metadata": {},
   "outputs": [
    {
     "name": "stdout",
     "output_type": "stream",
     "text": [
      "Cores working: 1\n"
     ]
    },
    {
     "data": {
      "text/html": [
       "\n",
       "            <div>\n",
       "                <p><b>SparkSession - in-memory</b></p>\n",
       "                \n",
       "        <div>\n",
       "            <p><b>SparkContext</b></p>\n",
       "\n",
       "            <p><a href=\"http://host.docker.internal:4040\">Spark UI</a></p>\n",
       "\n",
       "            <dl>\n",
       "              <dt>Version</dt>\n",
       "                <dd><code>v3.0.2</code></dd>\n",
       "              <dt>Master</dt>\n",
       "                <dd><code>local[*]</code></dd>\n",
       "              <dt>AppName</dt>\n",
       "                <dd><code>Text Classification</code></dd>\n",
       "            </dl>\n",
       "        </div>\n",
       "        \n",
       "            </div>\n",
       "        "
      ],
      "text/plain": [
       "<pyspark.sql.session.SparkSession at 0x22181a65588>"
      ]
     },
     "execution_count": 3,
     "metadata": {},
     "output_type": "execute_result"
    }
   ],
   "source": [
    "spark = SparkSession.builder.appName('Text Classification').getOrCreate()\n",
    "cores = spark._jsc.sc().getExecutorMemoryStatus().keySet().size()\n",
    "print(f'Cores working: {cores}')\n",
    "spark"
   ]
  },
  {
   "cell_type": "code",
   "execution_count": 4,
   "id": "d92ff456",
   "metadata": {},
   "outputs": [],
   "source": [
    "df = (spark.read\n",
    "      .format('csv')\n",
    "      .option('header', 'true')\n",
    "      .option('inferSchema', 'true')\n",
    "      .load('./data/udemy_courses_clean.csv'))"
   ]
  },
  {
   "cell_type": "code",
   "execution_count": 6,
   "id": "6b98ac76",
   "metadata": {},
   "outputs": [
    {
     "data": {
      "text/html": [
       "<div>\n",
       "<style scoped>\n",
       "    .dataframe tbody tr th:only-of-type {\n",
       "        vertical-align: middle;\n",
       "    }\n",
       "\n",
       "    .dataframe tbody tr th {\n",
       "        vertical-align: top;\n",
       "    }\n",
       "\n",
       "    .dataframe thead th {\n",
       "        text-align: right;\n",
       "    }\n",
       "</style>\n",
       "<table border=\"1\" class=\"dataframe\">\n",
       "  <thead>\n",
       "    <tr style=\"text-align: right;\">\n",
       "      <th></th>\n",
       "      <th>_c0</th>\n",
       "      <th>course_id</th>\n",
       "      <th>course_title</th>\n",
       "      <th>url</th>\n",
       "      <th>is_paid</th>\n",
       "      <th>price</th>\n",
       "      <th>num_subscribers</th>\n",
       "      <th>num_reviews</th>\n",
       "      <th>num_lectures</th>\n",
       "      <th>level</th>\n",
       "      <th>content_duration</th>\n",
       "      <th>published_timestamp</th>\n",
       "      <th>subject</th>\n",
       "      <th>clean_course_title</th>\n",
       "    </tr>\n",
       "  </thead>\n",
       "  <tbody>\n",
       "    <tr>\n",
       "      <th>0</th>\n",
       "      <td>0</td>\n",
       "      <td>1070968</td>\n",
       "      <td>Ultimate Investment Banking Course</td>\n",
       "      <td>https://www.udemy.com/ultimate-investment-bank...</td>\n",
       "      <td>True</td>\n",
       "      <td>200</td>\n",
       "      <td>2147</td>\n",
       "      <td>23</td>\n",
       "      <td>51</td>\n",
       "      <td>All Levels</td>\n",
       "      <td>1.5 hours</td>\n",
       "      <td>2017-01-18T20:58:58Z</td>\n",
       "      <td>Business Finance</td>\n",
       "      <td>Ultimate Investment Banking Course</td>\n",
       "    </tr>\n",
       "    <tr>\n",
       "      <th>1</th>\n",
       "      <td>1</td>\n",
       "      <td>1113822</td>\n",
       "      <td>Complete GST Course &amp; Certification - Grow You...</td>\n",
       "      <td>https://www.udemy.com/goods-and-services-tax/</td>\n",
       "      <td>True</td>\n",
       "      <td>75</td>\n",
       "      <td>2792</td>\n",
       "      <td>923</td>\n",
       "      <td>274</td>\n",
       "      <td>All Levels</td>\n",
       "      <td>39 hours</td>\n",
       "      <td>2017-03-09T16:34:20Z</td>\n",
       "      <td>Business Finance</td>\n",
       "      <td>Complete GST Course  Certification  Grow Practice</td>\n",
       "    </tr>\n",
       "  </tbody>\n",
       "</table>\n",
       "</div>"
      ],
      "text/plain": [
       "   _c0 course_id                                       course_title  \\\n",
       "0    0   1070968                 Ultimate Investment Banking Course   \n",
       "1    1   1113822  Complete GST Course & Certification - Grow You...   \n",
       "\n",
       "                                                 url is_paid price  \\\n",
       "0  https://www.udemy.com/ultimate-investment-bank...    True   200   \n",
       "1      https://www.udemy.com/goods-and-services-tax/    True    75   \n",
       "\n",
       "   num_subscribers  num_reviews num_lectures       level content_duration  \\\n",
       "0             2147           23           51  All Levels        1.5 hours   \n",
       "1             2792          923          274  All Levels         39 hours   \n",
       "\n",
       "    published_timestamp           subject  \\\n",
       "0  2017-01-18T20:58:58Z  Business Finance   \n",
       "1  2017-03-09T16:34:20Z  Business Finance   \n",
       "\n",
       "                                  clean_course_title  \n",
       "0                 Ultimate Investment Banking Course  \n",
       "1  Complete GST Course  Certification  Grow Practice  "
      ]
     },
     "execution_count": 6,
     "metadata": {},
     "output_type": "execute_result"
    }
   ],
   "source": [
    "df.limit(2).toPandas()"
   ]
  },
  {
   "cell_type": "code",
   "execution_count": 7,
   "id": "a6984a61",
   "metadata": {},
   "outputs": [
    {
     "name": "stdout",
     "output_type": "stream",
     "text": [
      "['_c0', 'course_id', 'course_title', 'url', 'is_paid', 'price', 'num_subscribers', 'num_reviews', 'num_lectures', 'level', 'content_duration', 'published_timestamp', 'subject', 'clean_course_title']\n"
     ]
    }
   ],
   "source": [
    "print(df.columns)"
   ]
  },
  {
   "cell_type": "code",
   "execution_count": 9,
   "id": "095e0acf",
   "metadata": {},
   "outputs": [],
   "source": [
    "text = df.select('course_title', 'subject')"
   ]
  },
  {
   "cell_type": "code",
   "execution_count": 10,
   "id": "90050185",
   "metadata": {},
   "outputs": [
    {
     "name": "stdout",
     "output_type": "stream",
     "text": [
      "+--------------------+----------------+\n",
      "|        course_title|         subject|\n",
      "+--------------------+----------------+\n",
      "|Ultimate Investme...|Business Finance|\n",
      "|Complete GST Cour...|Business Finance|\n",
      "|Financial Modelin...|Business Finance|\n",
      "|Beginner to Pro -...|Business Finance|\n",
      "|How To Maximize Y...|Business Finance|\n",
      "+--------------------+----------------+\n",
      "only showing top 5 rows\n",
      "\n"
     ]
    }
   ],
   "source": [
    "text.show(5)"
   ]
  },
  {
   "cell_type": "code",
   "execution_count": 14,
   "id": "77ceaf32",
   "metadata": {},
   "outputs": [
    {
     "name": "stdout",
     "output_type": "stream",
     "text": [
      "+--------------------+-----+\n",
      "|             subject|count|\n",
      "+--------------------+-----+\n",
      "|play Electric Gui...|    1|\n",
      "|Multiply returns ...|    1|\n",
      "|                null|    6|\n",
      "|    Business Finance| 1198|\n",
      "|Introduction Guit...|    1|\n",
      "|Learn Play Fernan...|    1|\n",
      "|      Graphic Design|  603|\n",
      "|Aprende tocar el ...|    1|\n",
      "|     Web Development| 1200|\n",
      "|Learn Classical G...|    1|\n",
      "| Musical Instruments|  676|\n",
      "+--------------------+-----+\n",
      "\n"
     ]
    }
   ],
   "source": [
    "text.groupBy('subject').count().show()"
   ]
  },
  {
   "cell_type": "code",
   "execution_count": 15,
   "id": "e1ec01c4",
   "metadata": {},
   "outputs": [
    {
     "data": {
      "text/plain": [
       "course_title    0\n",
       "subject         6\n",
       "dtype: int64"
      ]
     },
     "execution_count": 15,
     "metadata": {},
     "output_type": "execute_result"
    }
   ],
   "source": [
    "text.toPandas().isna().sum()"
   ]
  },
  {
   "cell_type": "code",
   "execution_count": 16,
   "id": "8a364e1a",
   "metadata": {},
   "outputs": [],
   "source": [
    "text = text.dropna(subset=('subject'))"
   ]
  },
  {
   "cell_type": "code",
   "execution_count": 17,
   "id": "1ff66d46",
   "metadata": {},
   "outputs": [
    {
     "data": {
      "text/plain": [
       "course_title    0\n",
       "subject         0\n",
       "dtype: int64"
      ]
     },
     "execution_count": 17,
     "metadata": {},
     "output_type": "execute_result"
    }
   ],
   "source": [
    "text.toPandas().isna().sum()"
   ]
  },
  {
   "cell_type": "code",
   "execution_count": 18,
   "id": "302a6758",
   "metadata": {},
   "outputs": [],
   "source": [
    "from pyspark.ml.feature import Tokenizer,StopWordsRemover,IDF,CountVectorizer"
   ]
  },
  {
   "cell_type": "code",
   "execution_count": 19,
   "id": "5aa59f30",
   "metadata": {},
   "outputs": [],
   "source": [
    "tokenizer = Tokenizer(inputCol= 'course_title', outputCol= 'tokens')\n",
    "stop_w_r = StopWordsRemover(inputCol= 'tokens', outputCol= 'stp_tokens')\n",
    "vectorizer = CountVectorizer(inputCol= 'stp_tokens', outputCol= 'vectors')\n",
    "idf = IDF(inputCol= 'vectors', outputCol= 'vectorized')"
   ]
  },
  {
   "cell_type": "code",
   "execution_count": 20,
   "id": "07a2251a",
   "metadata": {},
   "outputs": [],
   "source": [
    "from pyspark.ml.feature import StringIndexer"
   ]
  },
  {
   "cell_type": "code",
   "execution_count": 21,
   "id": "173af64b",
   "metadata": {},
   "outputs": [],
   "source": [
    "lbl_encoder = StringIndexer(inputCol= 'subject', outputCol= 'label').fit(text)"
   ]
  },
  {
   "cell_type": "code",
   "execution_count": 22,
   "id": "06eab7f4",
   "metadata": {},
   "outputs": [],
   "source": [
    "tranformer = lbl_encoder.transform(text)"
   ]
  },
  {
   "cell_type": "code",
   "execution_count": 25,
   "id": "8ac6b98c",
   "metadata": {},
   "outputs": [
    {
     "name": "stdout",
     "output_type": "stream",
     "text": [
      "+--------------------+----------------+-----+\n",
      "|        course_title|         subject|label|\n",
      "+--------------------+----------------+-----+\n",
      "|Ultimate Investme...|Business Finance|  1.0|\n",
      "|Complete GST Cour...|Business Finance|  1.0|\n",
      "|Financial Modelin...|Business Finance|  1.0|\n",
      "|Beginner to Pro -...|Business Finance|  1.0|\n",
      "|How To Maximize Y...|Business Finance|  1.0|\n",
      "+--------------------+----------------+-----+\n",
      "only showing top 5 rows\n",
      "\n"
     ]
    }
   ],
   "source": [
    "tranformer.show(5)"
   ]
  },
  {
   "cell_type": "code",
   "execution_count": 29,
   "id": "59de840b",
   "metadata": {},
   "outputs": [
    {
     "data": {
      "text/plain": [
       "['Web Development',\n",
       " 'Business Finance',\n",
       " 'Musical Instruments',\n",
       " 'Graphic Design',\n",
       " 'Aprende tocar el Acorden de odo con tcnicahttpswwwudemycomaprendeatocarelacordeondeoidoycontecnicatrue25932134Beginner Level4 hours20140916T195145Z 263432Aprende los Secretos de la Armnica con HARPSOUL',\n",
       " 'Introduction Guitar A Course Beginnershttpswwwudemycomintroductiontoguitartrue251631156Beginner Level25 hours20141030T155939Z 650804Guitar Master Class Learning Play Guitar Z',\n",
       " 'Learn Classical Guitar Technique play Spanish Romancehttpswwwudemycomguitartechniquestrue19513164643All Levels5 hours20131118T175959Z 265888Learn Guitar Worship Learn 4 Songs unlock 1',\n",
       " 'Learn Play Fernando Sors Study B minorhttpswwwudemycomstudyinbminortrue115140359Intermediate Level43 mins20140127T205816Z 398746Piano Chord Based System  Learn Play Pros Do',\n",
       " 'Multiply returns Value Investinghttpswwwudemycommultiplyyourreturnsusingvalueinvestingtrue2019421963All Levels45 hours20150723T000833Z 874284Weekly Forex Analysis Baraq FX',\n",
       " 'play Electric Guitarhttpswwwudemycomelectricguitarbeginnersmethodtrue501105520Beginner Level2 hours20161229T002406Z 42038Learn Piano Today Play Piano Course Quick Lessons']"
      ]
     },
     "execution_count": 29,
     "metadata": {},
     "output_type": "execute_result"
    }
   ],
   "source": [
    "lbl_encoder.labels"
   ]
  },
  {
   "cell_type": "code",
   "execution_count": 30,
   "id": "927cde27",
   "metadata": {},
   "outputs": [],
   "source": [
    "lbl_dict = {\n",
    "    'Web Development': 0.0,\n",
    "     'Business Finance': 1.0,\n",
    "     'Musical Instruments': 2.0,\n",
    "     'Graphic Design': 3.0,\n",
    "     'Aprende tocar el Acorden de odo con tcnicahttpswwwudemycomaprendeatocarelacordeondeoidoycontecnicatrue25932134Beginner Level4 hours20140916T195145Z 263432Aprende los Secretos de la Armnica con HARPSOUL': 4.0,\n",
    "     'Introduction Guitar A Course Beginnershttpswwwudemycomintroductiontoguitartrue251631156Beginner Level25 hours20141030T155939Z 650804Guitar Master Class Learning Play Guitar Z': 5.0,\n",
    "     'Learn Classical Guitar Technique play Spanish Romancehttpswwwudemycomguitartechniquestrue19513164643All Levels5 hours20131118T175959Z 265888Learn Guitar Worship Learn 4 Songs unlock 1': 6.0,\n",
    "     'Learn Play Fernando Sors Study B minorhttpswwwudemycomstudyinbminortrue115140359Intermediate Level43 mins20140127T205816Z 398746Piano Chord Based System  Learn Play Pros Do': 7.0,\n",
    "     'Multiply returns Value Investinghttpswwwudemycommultiplyyourreturnsusingvalueinvestingtrue2019421963All Levels45 hours20150723T000833Z 874284Weekly Forex Analysis Baraq FX': 8.0,\n",
    "     'play Electric Guitarhttpswwwudemycomelectricguitarbeginnersmethodtrue501105520Beginner Level2 hours20161229T002406Z 42038Learn Piano Today Play Piano Course Quick Lessons': 9.0\n",
    "}"
   ]
  },
  {
   "cell_type": "code",
   "execution_count": 31,
   "id": "8da27460",
   "metadata": {},
   "outputs": [],
   "source": [
    "xTrain, xTest = tranformer.randomSplit((0.7, 0.3), seed= 42)"
   ]
  },
  {
   "cell_type": "code",
   "execution_count": 32,
   "id": "3f586a24",
   "metadata": {},
   "outputs": [
    {
     "data": {
      "text/plain": [
       "2631"
      ]
     },
     "execution_count": 32,
     "metadata": {},
     "output_type": "execute_result"
    }
   ],
   "source": [
    "xTrain.count()"
   ]
  },
  {
   "cell_type": "code",
   "execution_count": 33,
   "id": "252eb288",
   "metadata": {},
   "outputs": [
    {
     "name": "stdout",
     "output_type": "stream",
     "text": [
      "+--------------------+-------------------+-----+\n",
      "|        course_title|            subject|label|\n",
      "+--------------------+-------------------+-----+\n",
      "|#12 Hand Coordina...|Musical Instruments|  2.0|\n",
      "|#7 Piano Hand Coo...|Musical Instruments|  2.0|\n",
      "|'Greensleeves' Cr...|Musical Instruments|  2.0|\n",
      "|* An Integrated A...|   Business Finance|  1.0|\n",
      "|         1 Hour HTML|    Web Development|  0.0|\n",
      "+--------------------+-------------------+-----+\n",
      "only showing top 5 rows\n",
      "\n"
     ]
    }
   ],
   "source": [
    "xTest.show(5)"
   ]
  },
  {
   "cell_type": "code",
   "execution_count": 34,
   "id": "69f80833",
   "metadata": {},
   "outputs": [],
   "source": [
    "from pyspark.ml.classification import LogisticRegression"
   ]
  },
  {
   "cell_type": "code",
   "execution_count": 35,
   "id": "c14193b1",
   "metadata": {},
   "outputs": [],
   "source": [
    "lr = LogisticRegression(featuresCol= 'vectorized', labelCol= 'label')"
   ]
  },
  {
   "cell_type": "code",
   "execution_count": 36,
   "id": "3aad4787",
   "metadata": {},
   "outputs": [],
   "source": [
    "from pyspark.ml import Pipeline"
   ]
  },
  {
   "cell_type": "code",
   "execution_count": 37,
   "id": "128341f2",
   "metadata": {},
   "outputs": [],
   "source": [
    "pipeline = Pipeline(stages= [tokenizer, stop_w_r, vectorizer, idf, lr])"
   ]
  },
  {
   "cell_type": "code",
   "execution_count": 39,
   "id": "c96525b8",
   "metadata": {},
   "outputs": [
    {
     "data": {
      "text/plain": [
       "Param(parent='Pipeline_0e81546bf041', name='stages', doc='a list of pipeline stages')"
      ]
     },
     "execution_count": 39,
     "metadata": {},
     "output_type": "execute_result"
    }
   ],
   "source": [
    "pipeline.stages"
   ]
  },
  {
   "cell_type": "code",
   "execution_count": 40,
   "id": "6bba096b",
   "metadata": {},
   "outputs": [],
   "source": [
    "lr_model = pipeline.fit(xTrain)"
   ]
  },
  {
   "cell_type": "code",
   "execution_count": 42,
   "id": "ced1118c",
   "metadata": {},
   "outputs": [],
   "source": [
    "preictions = lr_model.transform(xTest)"
   ]
  },
  {
   "cell_type": "code",
   "execution_count": 45,
   "id": "3ffe6de2",
   "metadata": {},
   "outputs": [
    {
     "data": {
      "text/html": [
       "<div>\n",
       "<style scoped>\n",
       "    .dataframe tbody tr th:only-of-type {\n",
       "        vertical-align: middle;\n",
       "    }\n",
       "\n",
       "    .dataframe tbody tr th {\n",
       "        vertical-align: top;\n",
       "    }\n",
       "\n",
       "    .dataframe thead th {\n",
       "        text-align: right;\n",
       "    }\n",
       "</style>\n",
       "<table border=\"1\" class=\"dataframe\">\n",
       "  <thead>\n",
       "    <tr style=\"text-align: right;\">\n",
       "      <th></th>\n",
       "      <th>course_title</th>\n",
       "      <th>subject</th>\n",
       "      <th>label</th>\n",
       "      <th>tokens</th>\n",
       "      <th>stp_tokens</th>\n",
       "      <th>vectors</th>\n",
       "      <th>vectorized</th>\n",
       "      <th>rawPrediction</th>\n",
       "      <th>probability</th>\n",
       "      <th>prediction</th>\n",
       "    </tr>\n",
       "  </thead>\n",
       "  <tbody>\n",
       "    <tr>\n",
       "      <th>0</th>\n",
       "      <td>#12 Hand Coordination: Let your Hands dance wi...</td>\n",
       "      <td>Musical Instruments</td>\n",
       "      <td>2.0</td>\n",
       "      <td>[#12, hand, coordination:, let, your, hands, d...</td>\n",
       "      <td>[#12, hand, coordination:, let, hands, dance, ...</td>\n",
       "      <td>(0.0, 0.0, 0.0, 0.0, 0.0, 0.0, 0.0, 0.0, 0.0, ...</td>\n",
       "      <td>(0.0, 0.0, 0.0, 0.0, 0.0, 0.0, 0.0, 0.0, 0.0, ...</td>\n",
       "      <td>[8.22575678848105, 3.5975679171861135, 6.34017...</td>\n",
       "      <td>[0.8608374053778659, 0.008412483817735125, 0.1...</td>\n",
       "      <td>0.0</td>\n",
       "    </tr>\n",
       "    <tr>\n",
       "      <th>1</th>\n",
       "      <td>#7 Piano Hand Coordination: Play Piano Runs in...</td>\n",
       "      <td>Musical Instruments</td>\n",
       "      <td>2.0</td>\n",
       "      <td>[#7, piano, hand, coordination:, play, piano, ...</td>\n",
       "      <td>[#7, piano, hand, coordination:, play, piano, ...</td>\n",
       "      <td>(0.0, 0.0, 0.0, 0.0, 0.0, 0.0, 0.0, 0.0, 0.0, ...</td>\n",
       "      <td>(0.0, 0.0, 0.0, 0.0, 0.0, 0.0, 0.0, 0.0, 0.0, ...</td>\n",
       "      <td>[-1.5816511970298013, -8.997023464041973, 31.1...</td>\n",
       "      <td>[6.40379189781718e-15, 3.854623399949752e-18, ...</td>\n",
       "      <td>2.0</td>\n",
       "    </tr>\n",
       "    <tr>\n",
       "      <th>2</th>\n",
       "      <td>'Greensleeves' Creative Piano Lessons Course</td>\n",
       "      <td>Musical Instruments</td>\n",
       "      <td>2.0</td>\n",
       "      <td>['greensleeves', creative, piano, lessons, cou...</td>\n",
       "      <td>['greensleeves', creative, piano, lessons, cou...</td>\n",
       "      <td>(0.0, 0.0, 0.0, 0.0, 0.0, 0.0, 1.0, 0.0, 0.0, ...</td>\n",
       "      <td>(0.0, 0.0, 0.0, 0.0, 0.0, 0.0, 2.8385466900315...</td>\n",
       "      <td>[0.38747123622534163, -6.481377516227757, 23.1...</td>\n",
       "      <td>[1.294300644410838e-10, 1.3456498185896783e-13...</td>\n",
       "      <td>2.0</td>\n",
       "    </tr>\n",
       "    <tr>\n",
       "      <th>3</th>\n",
       "      <td>* An Integrated Approach to the Fundamentals o...</td>\n",
       "      <td>Business Finance</td>\n",
       "      <td>1.0</td>\n",
       "      <td>[*, an, integrated, approach, to, the, fundame...</td>\n",
       "      <td>[*, integrated, approach, fundamentals, accoun...</td>\n",
       "      <td>(0.0, 0.0, 0.0, 0.0, 0.0, 0.0, 0.0, 0.0, 0.0, ...</td>\n",
       "      <td>(0.0, 0.0, 0.0, 0.0, 0.0, 0.0, 0.0, 0.0, 0.0, ...</td>\n",
       "      <td>[-2.0540053506463662, 19.670355566346725, 2.12...</td>\n",
       "      <td>[3.674767948508662e-10, 0.9999999744608667, 2....</td>\n",
       "      <td>1.0</td>\n",
       "    </tr>\n",
       "    <tr>\n",
       "      <th>4</th>\n",
       "      <td>1 Hour HTML</td>\n",
       "      <td>Web Development</td>\n",
       "      <td>0.0</td>\n",
       "      <td>[1, hour, html]</td>\n",
       "      <td>[1, hour, html]</td>\n",
       "      <td>(0.0, 0.0, 0.0, 0.0, 0.0, 0.0, 0.0, 0.0, 0.0, ...</td>\n",
       "      <td>(0.0, 0.0, 0.0, 0.0, 0.0, 0.0, 0.0, 0.0, 0.0, ...</td>\n",
       "      <td>[24.726619328299364, -7.273941748806659, -5.27...</td>\n",
       "      <td>[0.9999999990807953, 1.2657061957117799e-14, 9...</td>\n",
       "      <td>0.0</td>\n",
       "    </tr>\n",
       "  </tbody>\n",
       "</table>\n",
       "</div>"
      ],
      "text/plain": [
       "                                        course_title              subject  \\\n",
       "0  #12 Hand Coordination: Let your Hands dance wi...  Musical Instruments   \n",
       "1  #7 Piano Hand Coordination: Play Piano Runs in...  Musical Instruments   \n",
       "2       'Greensleeves' Creative Piano Lessons Course  Musical Instruments   \n",
       "3  * An Integrated Approach to the Fundamentals o...     Business Finance   \n",
       "4                                        1 Hour HTML      Web Development   \n",
       "\n",
       "   label                                             tokens  \\\n",
       "0    2.0  [#12, hand, coordination:, let, your, hands, d...   \n",
       "1    2.0  [#7, piano, hand, coordination:, play, piano, ...   \n",
       "2    2.0  ['greensleeves', creative, piano, lessons, cou...   \n",
       "3    1.0  [*, an, integrated, approach, to, the, fundame...   \n",
       "4    0.0                                    [1, hour, html]   \n",
       "\n",
       "                                          stp_tokens  \\\n",
       "0  [#12, hand, coordination:, let, hands, dance, ...   \n",
       "1  [#7, piano, hand, coordination:, play, piano, ...   \n",
       "2  ['greensleeves', creative, piano, lessons, cou...   \n",
       "3  [*, integrated, approach, fundamentals, accoun...   \n",
       "4                                    [1, hour, html]   \n",
       "\n",
       "                                             vectors  \\\n",
       "0  (0.0, 0.0, 0.0, 0.0, 0.0, 0.0, 0.0, 0.0, 0.0, ...   \n",
       "1  (0.0, 0.0, 0.0, 0.0, 0.0, 0.0, 0.0, 0.0, 0.0, ...   \n",
       "2  (0.0, 0.0, 0.0, 0.0, 0.0, 0.0, 1.0, 0.0, 0.0, ...   \n",
       "3  (0.0, 0.0, 0.0, 0.0, 0.0, 0.0, 0.0, 0.0, 0.0, ...   \n",
       "4  (0.0, 0.0, 0.0, 0.0, 0.0, 0.0, 0.0, 0.0, 0.0, ...   \n",
       "\n",
       "                                          vectorized  \\\n",
       "0  (0.0, 0.0, 0.0, 0.0, 0.0, 0.0, 0.0, 0.0, 0.0, ...   \n",
       "1  (0.0, 0.0, 0.0, 0.0, 0.0, 0.0, 0.0, 0.0, 0.0, ...   \n",
       "2  (0.0, 0.0, 0.0, 0.0, 0.0, 0.0, 2.8385466900315...   \n",
       "3  (0.0, 0.0, 0.0, 0.0, 0.0, 0.0, 0.0, 0.0, 0.0, ...   \n",
       "4  (0.0, 0.0, 0.0, 0.0, 0.0, 0.0, 0.0, 0.0, 0.0, ...   \n",
       "\n",
       "                                       rawPrediction  \\\n",
       "0  [8.22575678848105, 3.5975679171861135, 6.34017...   \n",
       "1  [-1.5816511970298013, -8.997023464041973, 31.1...   \n",
       "2  [0.38747123622534163, -6.481377516227757, 23.1...   \n",
       "3  [-2.0540053506463662, 19.670355566346725, 2.12...   \n",
       "4  [24.726619328299364, -7.273941748806659, -5.27...   \n",
       "\n",
       "                                         probability  prediction  \n",
       "0  [0.8608374053778659, 0.008412483817735125, 0.1...         0.0  \n",
       "1  [6.40379189781718e-15, 3.854623399949752e-18, ...         2.0  \n",
       "2  [1.294300644410838e-10, 1.3456498185896783e-13...         2.0  \n",
       "3  [3.674767948508662e-10, 0.9999999744608667, 2....         1.0  \n",
       "4  [0.9999999990807953, 1.2657061957117799e-14, 9...         0.0  "
      ]
     },
     "execution_count": 45,
     "metadata": {},
     "output_type": "execute_result"
    }
   ],
   "source": [
    "preictions.limit(5).toPandas()"
   ]
  },
  {
   "cell_type": "code",
   "execution_count": 47,
   "id": "59eaa6cc",
   "metadata": {},
   "outputs": [
    {
     "name": "stdout",
     "output_type": "stream",
     "text": [
      "['course_title', 'subject', 'label', 'tokens', 'stp_tokens', 'vectors', 'vectorized', 'rawPrediction', 'probability', 'prediction']\n"
     ]
    }
   ],
   "source": [
    "print(preictions.columns)"
   ]
  },
  {
   "cell_type": "code",
   "execution_count": 52,
   "id": "6a3987d0",
   "metadata": {},
   "outputs": [
    {
     "name": "stdout",
     "output_type": "stream",
     "text": [
      "+--------------------+--------------------+-------------------+-----+----------+\n",
      "|       rawPrediction|         probability|            subject|label|prediction|\n",
      "+--------------------+--------------------+-------------------+-----+----------+\n",
      "|[8.22575678848105...|[0.86083740537786...|Musical Instruments|  2.0|       0.0|\n",
      "|[-1.5816511970298...|[6.40379189781718...|Musical Instruments|  2.0|       2.0|\n",
      "|[0.38747123622534...|[1.29430064441083...|Musical Instruments|  2.0|       2.0|\n",
      "|[-2.0540053506463...|[3.67476794850866...|   Business Finance|  1.0|       1.0|\n",
      "|[24.7266193282993...|[0.99999999908079...|    Web Development|  0.0|       0.0|\n",
      "|[22.2213462251661...|[0.99999999175336...|    Web Development|  0.0|       0.0|\n",
      "|[20.1005546377642...|[0.99999995838555...|    Web Development|  0.0|       0.0|\n",
      "+--------------------+--------------------+-------------------+-----+----------+\n",
      "only showing top 7 rows\n",
      "\n"
     ]
    }
   ],
   "source": [
    "preictions.select('rawPrediction', 'probability', 'subject', 'label', 'prediction').show(7)"
   ]
  },
  {
   "cell_type": "code",
   "execution_count": 53,
   "id": "d89726d4",
   "metadata": {},
   "outputs": [],
   "source": [
    "from pyspark.ml.evaluation import MulticlassClassificationEvaluator"
   ]
  },
  {
   "cell_type": "code",
   "execution_count": 55,
   "id": "14aac73f",
   "metadata": {},
   "outputs": [],
   "source": [
    "evaluator = MulticlassClassificationEvaluator(labelCol= 'label', \n",
    "                                              predictionCol= 'prediction', \n",
    "                                              metricName= 'accuracy')"
   ]
  },
  {
   "cell_type": "code",
   "execution_count": 56,
   "id": "4342bb8f",
   "metadata": {},
   "outputs": [],
   "source": [
    "accuracy = evaluator.evaluate(preictions)"
   ]
  },
  {
   "cell_type": "code",
   "execution_count": 57,
   "id": "85c6f253",
   "metadata": {},
   "outputs": [
    {
     "data": {
      "text/plain": [
       "0.9163498098859315"
      ]
     },
     "execution_count": 57,
     "metadata": {},
     "output_type": "execute_result"
    }
   ],
   "source": [
    "accuracy"
   ]
  },
  {
   "cell_type": "code",
   "execution_count": 87,
   "id": "4c47055e",
   "metadata": {},
   "outputs": [],
   "source": [
    "from pyspark.mllib.evaluation import MulticlassMetrics\n",
    "from pyspark.sql.functions import format_number\n",
    "from pyspark.sql.types import StringType"
   ]
  },
  {
   "cell_type": "code",
   "execution_count": 59,
   "id": "158d91d2",
   "metadata": {},
   "outputs": [],
   "source": [
    "lr_metric = MulticlassMetrics(preictions['label', 'prediction'].rdd)"
   ]
  },
  {
   "cell_type": "code",
   "execution_count": 66,
   "id": "aaf7df09",
   "metadata": {},
   "outputs": [
    {
     "name": "stdout",
     "output_type": "stream",
     "text": [
      "Accuracy: (0.9163498098859315, 3)\n",
      "Precision: 0.9544159544159544\n",
      "Recall: 0.8792650918635171\n",
      "F1Score: 0.9153005464480874\n"
     ]
    }
   ],
   "source": [
    "print(f'Accuracy: {lr_metric.accuracy, 3}')\n",
    "print(f'Precision: {lr_metric.precision(1.0)}')\n",
    "print(f'Recall: {lr_metric.recall(1.0)}')\n",
    "print(f'F1Score: {lr_metric.fMeasure(1.0)}')"
   ]
  },
  {
   "cell_type": "code",
   "execution_count": 68,
   "id": "31909f0b",
   "metadata": {},
   "outputs": [],
   "source": [
    "from sklearn.metrics import confusion_matrix, classification_report"
   ]
  },
  {
   "cell_type": "code",
   "execution_count": 67,
   "id": "ef965f80",
   "metadata": {},
   "outputs": [],
   "source": [
    "yTrue = preictions.select('label').toPandas()\n",
    "yPred = preictions.select('prediction').toPandas()"
   ]
  },
  {
   "cell_type": "code",
   "execution_count": 69,
   "id": "51b2d346",
   "metadata": {},
   "outputs": [],
   "source": [
    "cm = confusion_matrix(yTrue, yPred)"
   ]
  },
  {
   "cell_type": "code",
   "execution_count": 73,
   "id": "906b3565",
   "metadata": {},
   "outputs": [
    {
     "data": {
      "text/plain": [
       "array([[317,  14,   1,   4,   0,   0],\n",
       "       [ 11, 335,   3,   2,   0,   0],\n",
       "       [  8,  13, 156,   1,   0,   0],\n",
       "       [  8,  17,   4, 156,   0,   0],\n",
       "       [  0,   1,   0,   0,   0,   0],\n",
       "       [  0,   1,   0,   0,   0,   0]], dtype=int64)"
      ]
     },
     "execution_count": 73,
     "metadata": {},
     "output_type": "execute_result"
    }
   ],
   "source": [
    "cm"
   ]
  },
  {
   "cell_type": "code",
   "execution_count": 70,
   "id": "92970f8b",
   "metadata": {},
   "outputs": [],
   "source": [
    "import matplotlib.pyplot as plt\n",
    "import numpy as np\n",
    "import itertools"
   ]
  },
  {
   "cell_type": "code",
   "execution_count": 78,
   "id": "7cc7ed3b",
   "metadata": {},
   "outputs": [],
   "source": [
    "def plot_cm(cm, classes, \n",
    "            normalize= False, \n",
    "            title= \"Confusion Metrics\", \n",
    "            cmap= plt.cm.Blues):\n",
    "    if normalize:\n",
    "        cm = cm.astype('float') / cm.sum(axis= 1)[:, np.newaxis]\n",
    "        print('Normalize Confusion Metrix')\n",
    "    else:\n",
    "        print('Confusion Metrix, without normalization')\n",
    "        \n",
    "    print(cm)\n",
    "    \n",
    "    plt.imshow(cm, interpolation= 'nearest', cmap= cmap)\n",
    "    plt.title(title)\n",
    "    plt.colorbar()\n",
    "    tick_marks = np.arange(len(classes))\n",
    "    plt.xticks(tick_marks, classes, rotation= 45)\n",
    "    plt.yticks(tick_marks, classes)\n",
    "    \n",
    "    \n",
    "    fmt = '.2f' if normalize else 'd'\n",
    "    thresh = cm.max()/2\n",
    "    for i, j in itertools.product(range(cm.shape[0]), range(cm.shape[1])):\n",
    "        plt.text(j, i, format(cm[i, j], fmt),\n",
    "        horizontalalignment = 'center',\n",
    "        color = 'white' if cm[i, j] > thresh else 'black')\n",
    "    \n",
    "    \n",
    "    plt.tight_layout()\n",
    "    plt.ylabel('True label')\n",
    "    plt.xlabel('Predicted label')"
   ]
  },
  {
   "cell_type": "code",
   "execution_count": 72,
   "id": "a806dbd8",
   "metadata": {},
   "outputs": [
    {
     "data": {
      "text/plain": [
       "dict_keys(['Web Development', 'Business Finance', 'Musical Instruments', 'Graphic Design', 'Aprende tocar el Acorden de odo con tcnicahttpswwwudemycomaprendeatocarelacordeondeoidoycontecnicatrue25932134Beginner Level4 hours20140916T195145Z 263432Aprende los Secretos de la Armnica con HARPSOUL', 'Introduction Guitar A Course Beginnershttpswwwudemycomintroductiontoguitartrue251631156Beginner Level25 hours20141030T155939Z 650804Guitar Master Class Learning Play Guitar Z', 'Learn Classical Guitar Technique play Spanish Romancehttpswwwudemycomguitartechniquestrue19513164643All Levels5 hours20131118T175959Z 265888Learn Guitar Worship Learn 4 Songs unlock 1', 'Learn Play Fernando Sors Study B minorhttpswwwudemycomstudyinbminortrue115140359Intermediate Level43 mins20140127T205816Z 398746Piano Chord Based System  Learn Play Pros Do', 'Multiply returns Value Investinghttpswwwudemycommultiplyyourreturnsusingvalueinvestingtrue2019421963All Levels45 hours20150723T000833Z 874284Weekly Forex Analysis Baraq FX', 'play Electric Guitarhttpswwwudemycomelectricguitarbeginnersmethodtrue501105520Beginner Level2 hours20161229T002406Z 42038Learn Piano Today Play Piano Course Quick Lessons'])"
      ]
     },
     "execution_count": 72,
     "metadata": {},
     "output_type": "execute_result"
    }
   ],
   "source": [
    "lbl_dict.keys()"
   ]
  },
  {
   "cell_type": "code",
   "execution_count": 82,
   "id": "f92acf7d",
   "metadata": {},
   "outputs": [],
   "source": [
    "classe_names = [\n",
    "    'Web Development', \n",
    "    'Business Finance', \n",
    "    'Musical Instruments', \n",
    "    'Graphic Design', \n",
    "    'Aprende', \n",
    "    'Guitar'\n",
    "]"
   ]
  },
  {
   "cell_type": "code",
   "execution_count": 83,
   "id": "30ecc35a",
   "metadata": {},
   "outputs": [
    {
     "name": "stdout",
     "output_type": "stream",
     "text": [
      "Confusion Metrix, without normalization\n",
      "[[317  14   1   4   0   0]\n",
      " [ 11 335   3   2   0   0]\n",
      " [  8  13 156   1   0   0]\n",
      " [  8  17   4 156   0   0]\n",
      " [  0   1   0   0   0   0]\n",
      " [  0   1   0   0   0   0]]\n"
     ]
    },
    {
     "data": {
      "image/png": "[encoded data removed]",
      "text/plain": [
       "<Figure size 432x288 with 2 Axes>"
      ]
     },
     "metadata": {
      "needs_background": "light"
     },
     "output_type": "display_data"
    }
   ],
   "source": [
    "plot_cm(cm, classe_names)"
   ]
  },
  {
   "cell_type": "code",
   "execution_count": 85,
   "id": "6caf7eb3",
   "metadata": {},
   "outputs": [
    {
     "name": "stdout",
     "output_type": "stream",
     "text": [
      "              precision    recall  f1-score   support\n",
      "\n",
      "         0.0       0.92      0.94      0.93       336\n",
      "         1.0       0.88      0.95      0.92       351\n",
      "         2.0       0.95      0.88      0.91       178\n",
      "         3.0       0.96      0.84      0.90       185\n",
      "         5.0       1.00      0.00      0.00         1\n",
      "         8.0       1.00      0.00      0.00         1\n",
      "\n",
      "    accuracy                           0.92      1052\n",
      "   macro avg       0.95      0.60      0.61      1052\n",
      "weighted avg       0.92      0.92      0.92      1052\n",
      "\n"
     ]
    }
   ],
   "source": [
    "print(classification_report(yTrue, yPred, zero_division=1))"
   ]
  },
  {
   "cell_type": "code",
   "execution_count": 86,
   "id": "6ff271b3",
   "metadata": {},
   "outputs": [
    {
     "name": "stdout",
     "output_type": "stream",
     "text": [
      "                     precision    recall  f1-score   support\n",
      "\n",
      "    Web Development       0.92      0.94      0.93       336\n",
      "   Business Finance       0.88      0.95      0.92       351\n",
      "Musical Instruments       0.95      0.88      0.91       178\n",
      "     Graphic Design       0.96      0.84      0.90       185\n",
      "            Aprende       1.00      0.00      0.00         1\n",
      "             Guitar       1.00      0.00      0.00         1\n",
      "\n",
      "           accuracy                           0.92      1052\n",
      "          macro avg       0.95      0.60      0.61      1052\n",
      "       weighted avg       0.92      0.92      0.92      1052\n",
      "\n"
     ]
    }
   ],
   "source": [
    "print(classification_report(yTrue, \n",
    "                            yPred, \n",
    "                            target_names= classe_names, \n",
    "                            zero_division=1))"
   ]
  },
  {
   "cell_type": "code",
   "execution_count": 90,
   "id": "74b2cc6e",
   "metadata": {},
   "outputs": [],
   "source": [
    "new_entry = spark.createDataFrame(\n",
    "    [('Learn Power BI and Build a great report dashboard', StringType())],\n",
    "    ['course_title'])"
   ]
  },
  {
   "cell_type": "code",
   "execution_count": 91,
   "id": "f81a6bdb",
   "metadata": {},
   "outputs": [
    {
     "name": "stdout",
     "output_type": "stream",
     "text": [
      "+-------------------------------------------------+---+\n",
      "|course_title                                     |_2 |\n",
      "+-------------------------------------------------+---+\n",
      "|Learn Power BI and Build a great report dashboard|[] |\n",
      "+-------------------------------------------------+---+\n",
      "\n"
     ]
    }
   ],
   "source": [
    "new_entry.show(truncate= False)"
   ]
  },
  {
   "cell_type": "code",
   "execution_count": 92,
   "id": "b90e1f1a",
   "metadata": {},
   "outputs": [],
   "source": [
    "pred_new_entry = lr_model.transform(new_entry)"
   ]
  },
  {
   "cell_type": "code",
   "execution_count": 95,
   "id": "7dc40f41",
   "metadata": {},
   "outputs": [
    {
     "data": {
      "text/html": [
       "<div>\n",
       "<style scoped>\n",
       "    .dataframe tbody tr th:only-of-type {\n",
       "        vertical-align: middle;\n",
       "    }\n",
       "\n",
       "    .dataframe tbody tr th {\n",
       "        vertical-align: top;\n",
       "    }\n",
       "\n",
       "    .dataframe thead th {\n",
       "        text-align: right;\n",
       "    }\n",
       "</style>\n",
       "<table border=\"1\" class=\"dataframe\">\n",
       "  <thead>\n",
       "    <tr style=\"text-align: right;\">\n",
       "      <th></th>\n",
       "      <th>course_title</th>\n",
       "      <th>_2</th>\n",
       "      <th>tokens</th>\n",
       "      <th>stp_tokens</th>\n",
       "      <th>vectors</th>\n",
       "      <th>vectorized</th>\n",
       "      <th>rawPrediction</th>\n",
       "      <th>probability</th>\n",
       "      <th>prediction</th>\n",
       "    </tr>\n",
       "  </thead>\n",
       "  <tbody>\n",
       "    <tr>\n",
       "      <th>0</th>\n",
       "      <td>Learn Power BI and Build a great report dashboard</td>\n",
       "      <td>()</td>\n",
       "      <td>[learn, power, bi, and, build, a, great, repor...</td>\n",
       "      <td>[learn, power, bi, build, great, report, dashb...</td>\n",
       "      <td>(0.0, 1.0, 0.0, 0.0, 0.0, 0.0, 0.0, 0.0, 0.0, ...</td>\n",
       "      <td>(0.0, 1.9701374443906376, 0.0, 0.0, 0.0, 0.0, ...</td>\n",
       "      <td>[10.15697570890937, 11.744077531834709, -2.337...</td>\n",
       "      <td>[0.16979144266393575, 0.8302050338106395, 6.36...</td>\n",
       "      <td>1.0</td>\n",
       "    </tr>\n",
       "  </tbody>\n",
       "</table>\n",
       "</div>"
      ],
      "text/plain": [
       "                                        course_title  _2  \\\n",
       "0  Learn Power BI and Build a great report dashboard  ()   \n",
       "\n",
       "                                              tokens  \\\n",
       "0  [learn, power, bi, and, build, a, great, repor...   \n",
       "\n",
       "                                          stp_tokens  \\\n",
       "0  [learn, power, bi, build, great, report, dashb...   \n",
       "\n",
       "                                             vectors  \\\n",
       "0  (0.0, 1.0, 0.0, 0.0, 0.0, 0.0, 0.0, 0.0, 0.0, ...   \n",
       "\n",
       "                                          vectorized  \\\n",
       "0  (0.0, 1.9701374443906376, 0.0, 0.0, 0.0, 0.0, ...   \n",
       "\n",
       "                                       rawPrediction  \\\n",
       "0  [10.15697570890937, 11.744077531834709, -2.337...   \n",
       "\n",
       "                                         probability  prediction  \n",
       "0  [0.16979144266393575, 0.8302050338106395, 6.36...         1.0  "
      ]
     },
     "execution_count": 95,
     "metadata": {},
     "output_type": "execute_result"
    }
   ],
   "source": [
    "pred_new_entry.limit(1).toPandas()"
   ]
  },
  {
   "cell_type": "code",
   "execution_count": 96,
   "id": "7fd617fb",
   "metadata": {},
   "outputs": [
    {
     "name": "stdout",
     "output_type": "stream",
     "text": [
      "['course_title', '_2', 'tokens', 'stp_tokens', 'vectors', 'vectorized', 'rawPrediction', 'probability', 'prediction']\n"
     ]
    }
   ],
   "source": [
    "print(pred_new_entry.columns)"
   ]
  },
  {
   "cell_type": "code",
   "execution_count": 97,
   "id": "444c4544",
   "metadata": {},
   "outputs": [
    {
     "name": "stdout",
     "output_type": "stream",
     "text": [
      "+--------------------+--------------------+--------------------+----------+\n",
      "|        course_title|       rawPrediction|         probability|prediction|\n",
      "+--------------------+--------------------+--------------------+----------+\n",
      "|Learn Power BI an...|[10.1569757089093...|[0.16979144266393...|       1.0|\n",
      "+--------------------+--------------------+--------------------+----------+\n",
      "\n"
     ]
    }
   ],
   "source": [
    "pred_new_entry.select('course_title', 'rawPrediction', 'probability', 'prediction').show()"
   ]
  },
  {
   "cell_type": "code",
   "execution_count": 98,
   "id": "7c3e49d8",
   "metadata": {},
   "outputs": [
    {
     "data": {
      "text/plain": [
       "{'Web Development': 0.0,\n",
       " 'Business Finance': 1.0,\n",
       " 'Musical Instruments': 2.0,\n",
       " 'Graphic Design': 3.0,\n",
       " 'Aprende tocar el Acorden de odo con tcnicahttpswwwudemycomaprendeatocarelacordeondeoidoycontecnicatrue25932134Beginner Level4 hours20140916T195145Z 263432Aprende los Secretos de la Armnica con HARPSOUL': 4.0,\n",
       " 'Introduction Guitar A Course Beginnershttpswwwudemycomintroductiontoguitartrue251631156Beginner Level25 hours20141030T155939Z 650804Guitar Master Class Learning Play Guitar Z': 5.0,\n",
       " 'Learn Classical Guitar Technique play Spanish Romancehttpswwwudemycomguitartechniquestrue19513164643All Levels5 hours20131118T175959Z 265888Learn Guitar Worship Learn 4 Songs unlock 1': 6.0,\n",
       " 'Learn Play Fernando Sors Study B minorhttpswwwudemycomstudyinbminortrue115140359Intermediate Level43 mins20140127T205816Z 398746Piano Chord Based System  Learn Play Pros Do': 7.0,\n",
       " 'Multiply returns Value Investinghttpswwwudemycommultiplyyourreturnsusingvalueinvestingtrue2019421963All Levels45 hours20150723T000833Z 874284Weekly Forex Analysis Baraq FX': 8.0,\n",
       " 'play Electric Guitarhttpswwwudemycomelectricguitarbeginnersmethodtrue501105520Beginner Level2 hours20161229T002406Z 42038Learn Piano Today Play Piano Course Quick Lessons': 9.0}"
      ]
     },
     "execution_count": 98,
     "metadata": {},
     "output_type": "execute_result"
    }
   ],
   "source": [
    "lbl_dict"
   ]
  },
  {
   "cell_type": "code",
   "execution_count": 102,
   "id": "a3b1b092",
   "metadata": {},
   "outputs": [
    {
     "name": "stdout",
     "output_type": "stream",
     "text": [
      "+--------------------+--------------------+--------------------+----------+\n",
      "|        course_title|       rawPrediction|         probability|prediction|\n",
      "+--------------------+--------------------+--------------------+----------+\n",
      "|Solfege basis wit...|[-6.6904170836096...|[5.49800190275741...|       2.0|\n",
      "+--------------------+--------------------+--------------------+----------+\n",
      "\n"
     ]
    }
   ],
   "source": [
    "new_input = spark.createDataFrame(\n",
    "    [('Solfege basis with piano and guitar', StringType())],\n",
    "    ['course_title'])\n",
    "pred_new_input = lr_model.transform(new_input)\n",
    "pred_new_input.limit(1).toPandas()\n",
    "pred_new_input.select('course_title', 'rawPrediction', 'probability', 'prediction').show()"
   ]
  },
  {
   "cell_type": "code",
   "execution_count": 108,
   "id": "e447c321",
   "metadata": {},
   "outputs": [
    {
     "name": "stdout",
     "output_type": "stream",
     "text": [
      "+--------------------+--------------------+--------------------+----------+\n",
      "|        course_title|       rawPrediction|         probability|prediction|\n",
      "+--------------------+--------------------+--------------------+----------+\n",
      "|responsive androi...|[8.04946274809401...|[0.90243655634433...|       0.0|\n",
      "+--------------------+--------------------+--------------------+----------+\n",
      "\n"
     ]
    }
   ],
   "source": [
    "new_input = spark.createDataFrame(\n",
    "    [('responsive android phone', StringType())],\n",
    "    ['course_title'])\n",
    "pred_new_input = lr_model.transform(new_input)\n",
    "pred_new_input.limit(1).toPandas()\n",
    "pred_new_input.select('course_title', 'rawPrediction', 'probability', 'prediction').show()"
   ]
  }
 ],
 "metadata": {
  "kernelspec": {
   "display_name": "Python 3",
   "language": "python",
   "name": "python3"
  },
  "language_info": {
   "codemirror_mode": {
    "name": "ipython",
    "version": 3
   },
   "file_extension": ".py",
   "mimetype": "text/x-python",
   "name": "python",
   "nbconvert_exporter": "python",
   "pygments_lexer": "ipython3",
   "version": "3.7.10"
  }
 },
 "nbformat": 4,
 "nbformat_minor": 5
}
