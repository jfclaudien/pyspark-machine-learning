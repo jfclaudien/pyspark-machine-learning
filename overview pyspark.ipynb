{
 "cells": [
  {
   "cell_type": "code",
   "execution_count": 1,
   "id": "0889a4b9",
   "metadata": {},
   "outputs": [],
   "source": [
    "from pyspark import SparkContext, SparkConf\n",
    "from pyspark.sql import SparkSession, SQLContext"
   ]
  },
  {
   "cell_type": "code",
   "execution_count": 2,
   "id": "28f0068f",
   "metadata": {},
   "outputs": [],
   "source": [
    "sc = SparkContext(master= 'local[*]')"
   ]
  },
  {
   "cell_type": "code",
   "execution_count": 3,
   "id": "0c213e97",
   "metadata": {},
   "outputs": [],
   "source": [
    "spark = SparkSession.builder.appName('ML with pyspark').getOrCreate()\n",
    "\n",
    "cores = spark._jsc.sc().getExecutorMemoryStatus().keySet().size()"
   ]
  },
  {
   "cell_type": "code",
   "execution_count": 4,
   "id": "07d9b344",
   "metadata": {},
   "outputs": [
    {
     "name": "stdout",
     "output_type": "stream",
     "text": [
      "You are working with 1 cores\n"
     ]
    },
    {
     "data": {
      "text/html": [
       "\n",
       "            <div>\n",
       "                <p><b>SparkSession - in-memory</b></p>\n",
       "                \n",
       "        <div>\n",
       "            <p><b>SparkContext</b></p>\n",
       "\n",
       "            <p><a href=\"http://host.docker.internal:4040\">Spark UI</a></p>\n",
       "\n",
       "            <dl>\n",
       "              <dt>Version</dt>\n",
       "                <dd><code>v3.0.2</code></dd>\n",
       "              <dt>Master</dt>\n",
       "                <dd><code>local[*]</code></dd>\n",
       "              <dt>AppName</dt>\n",
       "                <dd><code>pyspark-shell</code></dd>\n",
       "            </dl>\n",
       "        </div>\n",
       "        \n",
       "            </div>\n",
       "        "
      ],
      "text/plain": [
       "<pyspark.sql.session.SparkSession at 0x28f93264748>"
      ]
     },
     "execution_count": 4,
     "metadata": {},
     "output_type": "execute_result"
    }
   ],
   "source": [
    "print(f'You are working with {cores} cores')\n",
    "spark"
   ]
  },
  {
   "cell_type": "code",
   "execution_count": 5,
   "id": "b8be52b0",
   "metadata": {},
   "outputs": [],
   "source": [
    "df = spark.read.csv('./data/hcvdata.csv')"
   ]
  },
  {
   "cell_type": "code",
   "execution_count": 6,
   "id": "3565d2dc",
   "metadata": {},
   "outputs": [
    {
     "name": "stdout",
     "output_type": "stream",
     "text": [
      "+----+-------------+---+---+----+----+----+----+----+-----+----+----+----+----+\n",
      "| _c0|          _c1|_c2|_c3| _c4| _c5| _c6| _c7| _c8|  _c9|_c10|_c11|_c12|_c13|\n",
      "+----+-------------+---+---+----+----+----+----+----+-----+----+----+----+----+\n",
      "|null|     Category|Age|Sex| ALB| ALP| ALT| AST| BIL|  CHE|CHOL|CREA| GGT|PROT|\n",
      "|   1|0=Blood Donor| 32|  m|38.5|52.5| 7.7|22.1| 7.5| 6.93|3.23| 106|12.1|  69|\n",
      "|   2|0=Blood Donor| 32|  m|38.5|70.3|  18|24.7| 3.9|11.17| 4.8|  74|15.6|76.5|\n",
      "|   3|0=Blood Donor| 32|  m|46.9|74.7|36.2|52.6| 6.1| 8.84| 5.2|  86|33.2|79.3|\n",
      "|   4|0=Blood Donor| 32|  m|43.2|  52|30.6|22.6|18.9| 7.33|4.74|  80|33.8|75.7|\n",
      "+----+-------------+---+---+----+----+----+----+----+-----+----+----+----+----+\n",
      "only showing top 5 rows\n",
      "\n"
     ]
    }
   ],
   "source": [
    "df.show(5)"
   ]
  },
  {
   "cell_type": "code",
   "execution_count": 7,
   "id": "bcceed9c",
   "metadata": {},
   "outputs": [
    {
     "data": {
      "text/html": [
       "<div>\n",
       "<style scoped>\n",
       "    .dataframe tbody tr th:only-of-type {\n",
       "        vertical-align: middle;\n",
       "    }\n",
       "\n",
       "    .dataframe tbody tr th {\n",
       "        vertical-align: top;\n",
       "    }\n",
       "\n",
       "    .dataframe thead th {\n",
       "        text-align: right;\n",
       "    }\n",
       "</style>\n",
       "<table border=\"1\" class=\"dataframe\">\n",
       "  <thead>\n",
       "    <tr style=\"text-align: right;\">\n",
       "      <th></th>\n",
       "      <th>_c0</th>\n",
       "      <th>Category</th>\n",
       "      <th>Age</th>\n",
       "      <th>Sex</th>\n",
       "      <th>ALB</th>\n",
       "      <th>ALP</th>\n",
       "      <th>ALT</th>\n",
       "      <th>AST</th>\n",
       "      <th>BIL</th>\n",
       "      <th>CHE</th>\n",
       "      <th>CHOL</th>\n",
       "      <th>CREA</th>\n",
       "      <th>GGT</th>\n",
       "      <th>PROT</th>\n",
       "    </tr>\n",
       "  </thead>\n",
       "  <tbody>\n",
       "    <tr>\n",
       "      <th>0</th>\n",
       "      <td>1</td>\n",
       "      <td>0=Blood Donor</td>\n",
       "      <td>32</td>\n",
       "      <td>m</td>\n",
       "      <td>38.5</td>\n",
       "      <td>52.5</td>\n",
       "      <td>7.7</td>\n",
       "      <td>22.1</td>\n",
       "      <td>7.5</td>\n",
       "      <td>6.93</td>\n",
       "      <td>3.23</td>\n",
       "      <td>106.0</td>\n",
       "      <td>12.1</td>\n",
       "      <td>69</td>\n",
       "    </tr>\n",
       "    <tr>\n",
       "      <th>1</th>\n",
       "      <td>2</td>\n",
       "      <td>0=Blood Donor</td>\n",
       "      <td>32</td>\n",
       "      <td>m</td>\n",
       "      <td>38.5</td>\n",
       "      <td>70.3</td>\n",
       "      <td>18</td>\n",
       "      <td>24.7</td>\n",
       "      <td>3.9</td>\n",
       "      <td>11.17</td>\n",
       "      <td>4.8</td>\n",
       "      <td>74.0</td>\n",
       "      <td>15.6</td>\n",
       "      <td>76.5</td>\n",
       "    </tr>\n",
       "    <tr>\n",
       "      <th>2</th>\n",
       "      <td>3</td>\n",
       "      <td>0=Blood Donor</td>\n",
       "      <td>32</td>\n",
       "      <td>m</td>\n",
       "      <td>46.9</td>\n",
       "      <td>74.7</td>\n",
       "      <td>36.2</td>\n",
       "      <td>52.6</td>\n",
       "      <td>6.1</td>\n",
       "      <td>8.84</td>\n",
       "      <td>5.2</td>\n",
       "      <td>86.0</td>\n",
       "      <td>33.2</td>\n",
       "      <td>79.3</td>\n",
       "    </tr>\n",
       "    <tr>\n",
       "      <th>3</th>\n",
       "      <td>4</td>\n",
       "      <td>0=Blood Donor</td>\n",
       "      <td>32</td>\n",
       "      <td>m</td>\n",
       "      <td>43.2</td>\n",
       "      <td>52</td>\n",
       "      <td>30.6</td>\n",
       "      <td>22.6</td>\n",
       "      <td>18.9</td>\n",
       "      <td>7.33</td>\n",
       "      <td>4.74</td>\n",
       "      <td>80.0</td>\n",
       "      <td>33.8</td>\n",
       "      <td>75.7</td>\n",
       "    </tr>\n",
       "    <tr>\n",
       "      <th>4</th>\n",
       "      <td>5</td>\n",
       "      <td>0=Blood Donor</td>\n",
       "      <td>32</td>\n",
       "      <td>m</td>\n",
       "      <td>39.2</td>\n",
       "      <td>74.1</td>\n",
       "      <td>32.6</td>\n",
       "      <td>24.8</td>\n",
       "      <td>9.6</td>\n",
       "      <td>9.15</td>\n",
       "      <td>4.32</td>\n",
       "      <td>76.0</td>\n",
       "      <td>29.9</td>\n",
       "      <td>68.7</td>\n",
       "    </tr>\n",
       "  </tbody>\n",
       "</table>\n",
       "</div>"
      ],
      "text/plain": [
       "   _c0       Category  Age Sex   ALB   ALP   ALT   AST   BIL    CHE  CHOL  \\\n",
       "0    1  0=Blood Donor   32   m  38.5  52.5   7.7  22.1   7.5   6.93  3.23   \n",
       "1    2  0=Blood Donor   32   m  38.5  70.3    18  24.7   3.9  11.17   4.8   \n",
       "2    3  0=Blood Donor   32   m  46.9  74.7  36.2  52.6   6.1   8.84   5.2   \n",
       "3    4  0=Blood Donor   32   m  43.2    52  30.6  22.6  18.9   7.33  4.74   \n",
       "4    5  0=Blood Donor   32   m  39.2  74.1  32.6  24.8   9.6   9.15  4.32   \n",
       "\n",
       "    CREA   GGT  PROT  \n",
       "0  106.0  12.1    69  \n",
       "1   74.0  15.6  76.5  \n",
       "2   86.0  33.2  79.3  \n",
       "3   80.0  33.8  75.7  \n",
       "4   76.0  29.9  68.7  "
      ]
     },
     "execution_count": 7,
     "metadata": {},
     "output_type": "execute_result"
    }
   ],
   "source": [
    "df = spark.read.csv('./data/hcvdata.csv', header= True, inferSchema= True)\n",
    "df.limit(5).toPandas()"
   ]
  },
  {
   "cell_type": "code",
   "execution_count": 8,
   "id": "36950941",
   "metadata": {},
   "outputs": [
    {
     "data": {
      "text/plain": [
       "Row(_c0=1, Category='0=Blood Donor', Age=32, Sex='m', ALB='38.5', ALP='52.5', ALT='7.7', AST=22.1, BIL=7.5, CHE=6.93, CHOL='3.23', CREA=106.0, GGT=12.1, PROT='69')"
      ]
     },
     "execution_count": 8,
     "metadata": {},
     "output_type": "execute_result"
    }
   ],
   "source": [
    "df.first()"
   ]
  },
  {
   "cell_type": "code",
   "execution_count": 9,
   "id": "e2602ab2",
   "metadata": {},
   "outputs": [
    {
     "data": {
      "text/plain": [
       "['_c0',\n",
       " 'Category',\n",
       " 'Age',\n",
       " 'Sex',\n",
       " 'ALB',\n",
       " 'ALP',\n",
       " 'ALT',\n",
       " 'AST',\n",
       " 'BIL',\n",
       " 'CHE',\n",
       " 'CHOL',\n",
       " 'CREA',\n",
       " 'GGT',\n",
       " 'PROT']"
      ]
     },
     "execution_count": 9,
     "metadata": {},
     "output_type": "execute_result"
    }
   ],
   "source": [
    "df.columns"
   ]
  },
  {
   "cell_type": "code",
   "execution_count": 10,
   "id": "f16b92e3",
   "metadata": {},
   "outputs": [
    {
     "data": {
      "text/plain": [
       "[('_c0', 'int'),\n",
       " ('Category', 'string'),\n",
       " ('Age', 'int'),\n",
       " ('Sex', 'string'),\n",
       " ('ALB', 'string'),\n",
       " ('ALP', 'string'),\n",
       " ('ALT', 'string'),\n",
       " ('AST', 'double'),\n",
       " ('BIL', 'double'),\n",
       " ('CHE', 'double'),\n",
       " ('CHOL', 'string'),\n",
       " ('CREA', 'double'),\n",
       " ('GGT', 'double'),\n",
       " ('PROT', 'string')]"
      ]
     },
     "execution_count": 10,
     "metadata": {},
     "output_type": "execute_result"
    }
   ],
   "source": [
    "df.dtypes"
   ]
  },
  {
   "cell_type": "code",
   "execution_count": 11,
   "id": "f615d378",
   "metadata": {},
   "outputs": [
    {
     "data": {
      "text/plain": [
       "615"
      ]
     },
     "execution_count": 11,
     "metadata": {},
     "output_type": "execute_result"
    }
   ],
   "source": [
    "df.count() # gives the nb of row"
   ]
  },
  {
   "cell_type": "code",
   "execution_count": 12,
   "id": "f89e502a",
   "metadata": {},
   "outputs": [
    {
     "data": {
      "text/plain": [
       "14"
      ]
     },
     "execution_count": 12,
     "metadata": {},
     "output_type": "execute_result"
    }
   ],
   "source": [
    "len(df.columns) # gives the nb of column"
   ]
  },
  {
   "cell_type": "code",
   "execution_count": 13,
   "id": "1947915b",
   "metadata": {},
   "outputs": [
    {
     "name": "stdout",
     "output_type": "stream",
     "text": [
      "(615, 14)\n"
     ]
    }
   ],
   "source": [
    "print((df.count(), len(df.columns)))"
   ]
  },
  {
   "cell_type": "code",
   "execution_count": 14,
   "id": "41af397f",
   "metadata": {},
   "outputs": [
    {
     "name": "stdout",
     "output_type": "stream",
     "text": [
      "+-------+------------------+-------------+------------------+----+-----------------+------------------+------------------+-----------------+------------------+------------------+------------------+-----------------+-----------------+-----------------+\n",
      "|summary|               _c0|     Category|               Age| Sex|              ALB|               ALP|               ALT|              AST|               BIL|               CHE|              CHOL|             CREA|              GGT|             PROT|\n",
      "+-------+------------------+-------------+------------------+----+-----------------+------------------+------------------+-----------------+------------------+------------------+------------------+-----------------+-----------------+-----------------+\n",
      "|  count|               615|          615|               615| 615|              615|               615|               615|              615|               615|               615|               615|              615|              615|              615|\n",
      "|   mean|             308.0|         null| 47.40813008130081|null|41.62019543973941| 68.28391959798999| 28.45081433224754|34.78634146341462|11.396747967479675| 8.196634146341458| 5.368099173553719|81.28780487804877|39.53317073170732|72.04413680781768|\n",
      "| stddev|177.67948671695333|         null|10.055105445519239|null|5.780629404103076|26.028315300123676|25.469688813870942|33.09069033855156|19.673149805846588|2.2056572704292927|1.1327284311597354|49.75616601234976|54.66107123891245|5.402635737104955|\n",
      "|    min|                 1|0=Blood Donor|                19|   f|             14.9|             100.4|               0.9|             10.6|               0.8|              1.42|              1.43|              8.0|              4.5|             44.8|\n",
      "|    max|               615|  3=Cirrhosis|                77|   m|               NA|                NA|                NA|            324.0|             254.0|             16.41|                NA|           1079.1|            650.9|               NA|\n",
      "+-------+------------------+-------------+------------------+----+-----------------+------------------+------------------+-----------------+------------------+------------------+------------------+-----------------+-----------------+-----------------+\n",
      "\n"
     ]
    }
   ],
   "source": [
    "df.describe().show()"
   ]
  },
  {
   "cell_type": "code",
   "execution_count": 15,
   "id": "21034ab3",
   "metadata": {},
   "outputs": [
    {
     "name": "stdout",
     "output_type": "stream",
     "text": [
      "+-------+------------------+\n",
      "|summary|               Age|\n",
      "+-------+------------------+\n",
      "|  count|               615|\n",
      "|   mean| 47.40813008130081|\n",
      "| stddev|10.055105445519239|\n",
      "|    min|                19|\n",
      "|    max|                77|\n",
      "+-------+------------------+\n",
      "\n"
     ]
    }
   ],
   "source": [
    "df.describe(['Age']).show()"
   ]
  },
  {
   "cell_type": "code",
   "execution_count": 16,
   "id": "32f99067",
   "metadata": {},
   "outputs": [
    {
     "name": "stdout",
     "output_type": "stream",
     "text": [
      "+---+\n",
      "|age|\n",
      "+---+\n",
      "| 32|\n",
      "| 32|\n",
      "| 32|\n",
      "| 32|\n",
      "| 32|\n",
      "+---+\n",
      "only showing top 5 rows\n",
      "\n"
     ]
    }
   ],
   "source": [
    "df.select('age').show(5)"
   ]
  },
  {
   "cell_type": "code",
   "execution_count": 17,
   "id": "6a71090c",
   "metadata": {},
   "outputs": [
    {
     "name": "stdout",
     "output_type": "stream",
     "text": [
      "+---+-------------+\n",
      "|age|     category|\n",
      "+---+-------------+\n",
      "| 32|0=Blood Donor|\n",
      "| 32|0=Blood Donor|\n",
      "| 32|0=Blood Donor|\n",
      "| 32|0=Blood Donor|\n",
      "| 32|0=Blood Donor|\n",
      "+---+-------------+\n",
      "only showing top 5 rows\n",
      "\n"
     ]
    }
   ],
   "source": [
    "df.select(['age', 'category']).show(5)"
   ]
  },
  {
   "cell_type": "code",
   "execution_count": 18,
   "id": "43dfef8a",
   "metadata": {},
   "outputs": [
    {
     "name": "stdout",
     "output_type": "stream",
     "text": [
      "+---+-------------+---+---+----+----+----+----+---+-----+----+-----+----+----+\n",
      "|_c0|     Category|Age|Sex| ALB| ALP| ALT| AST|BIL|  CHE|CHOL| CREA| GGT|PROT|\n",
      "+---+-------------+---+---+----+----+----+----+---+-----+----+-----+----+----+\n",
      "|  1|0=Blood Donor| 32|  m|38.5|52.5| 7.7|22.1|7.5| 6.93|3.23|106.0|12.1|  69|\n",
      "|  2|0=Blood Donor| 32|  m|38.5|70.3|  18|24.7|3.9|11.17| 4.8| 74.0|15.6|76.5|\n",
      "|  3|0=Blood Donor| 32|  m|46.9|74.7|36.2|52.6|6.1| 8.84| 5.2| 86.0|33.2|79.3|\n",
      "+---+-------------+---+---+----+----+----+----+---+-----+----+-----+----+----+\n",
      "only showing top 3 rows\n",
      "\n"
     ]
    }
   ],
   "source": [
    "df.show(3)"
   ]
  },
  {
   "cell_type": "code",
   "execution_count": 19,
   "id": "7add6580",
   "metadata": {},
   "outputs": [
    {
     "name": "stdout",
     "output_type": "stream",
     "text": [
      "+---+-----------+---+---+---+----+----+-----+----+---+----+----+----+----+\n",
      "|_c0|   Category|Age|Sex|ALB| ALP| ALT|  AST| BIL|CHE|CHOL|CREA| GGT|PROT|\n",
      "+---+-----------+---+---+---+----+----+-----+----+---+----+----+----+----+\n",
      "|544|1=Hepatitis| 25|  m| 42|38.2|63.3|187.7|14.0|6.0|4.28|66.9|40.2|70.5|\n",
      "+---+-----------+---+---+---+----+----+-----+----+---+----+----+----+----+\n",
      "\n"
     ]
    }
   ],
   "source": [
    "df.filter(df['Age'] == 25).show(5)"
   ]
  },
  {
   "cell_type": "code",
   "execution_count": 20,
   "id": "b595cb64",
   "metadata": {},
   "outputs": [
    {
     "name": "stdout",
     "output_type": "stream",
     "text": [
      "+---+-------------+---+---+----+----+----+----+----+-----+----+----+----+----+\n",
      "|_c0|     Category|Age|Sex| ALB| ALP| ALT| AST| BIL|  CHE|CHOL|CREA| GGT|PROT|\n",
      "+---+-------------+---+---+----+----+----+----+----+-----+----+----+----+----+\n",
      "|319|0=Blood Donor| 32|  f|39.9|35.2|  22|29.8| 6.3| 8.16|4.37|60.0| 4.5|72.5|\n",
      "|320|0=Blood Donor| 32|  f|47.4|52.5|19.1|17.1| 4.6|10.19|  NA|63.0|23.0|72.2|\n",
      "|321|0=Blood Donor| 32|  f|41.1|42.8|10.1|14.1|23.2| 6.08|3.75|53.0| 9.3|68.9|\n",
      "|322|0=Blood Donor| 32|  f|43.5|66.2| 9.2|17.8| 5.7| 7.14|4.38|71.0|44.6|76.1|\n",
      "|323|0=Blood Donor| 33|  f|  36|77.5|14.8|22.0| 4.4| 8.61|5.26|66.0|13.1|66.1|\n",
      "+---+-------------+---+---+----+----+----+----+----+-----+----+----+----+----+\n",
      "only showing top 5 rows\n",
      "\n"
     ]
    }
   ],
   "source": [
    "df.where(df['sex'] == 'f').show(5)"
   ]
  },
  {
   "cell_type": "code",
   "execution_count": 21,
   "id": "bb8abccf",
   "metadata": {},
   "outputs": [
    {
     "name": "stdout",
     "output_type": "stream",
     "text": [
      "+---+---+-------------+\n",
      "|Age|Sex|     Category|\n",
      "+---+---+-------------+\n",
      "| 32|  f|0=Blood Donor|\n",
      "| 32|  f|0=Blood Donor|\n",
      "| 32|  f|0=Blood Donor|\n",
      "| 32|  f|0=Blood Donor|\n",
      "| 33|  f|0=Blood Donor|\n",
      "| 33|  f|0=Blood Donor|\n",
      "| 33|  f|0=Blood Donor|\n",
      "+---+---+-------------+\n",
      "only showing top 7 rows\n",
      "\n"
     ]
    }
   ],
   "source": [
    "df.where(df['sex'] == 'f').select('Age', 'Sex', 'Category').show(7)"
   ]
  },
  {
   "cell_type": "code",
   "execution_count": 22,
   "id": "33f87794",
   "metadata": {},
   "outputs": [
    {
     "name": "stdout",
     "output_type": "stream",
     "text": [
      "+---+-------------+---+---+----+----+----+----+----+-----+----+-----+----+----+---------+\n",
      "|_c0|     Category|Age|Sex| ALB| ALP| ALT| AST| BIL|  CHE|CHOL| CREA| GGT|PROT|Alb_by_10|\n",
      "+---+-------------+---+---+----+----+----+----+----+-----+----+-----+----+----+---------+\n",
      "|  1|0=Blood Donor| 32|  m|38.5|52.5| 7.7|22.1| 7.5| 6.93|3.23|106.0|12.1|  69|    385.0|\n",
      "|  2|0=Blood Donor| 32|  m|38.5|70.3|  18|24.7| 3.9|11.17| 4.8| 74.0|15.6|76.5|    385.0|\n",
      "|  3|0=Blood Donor| 32|  m|46.9|74.7|36.2|52.6| 6.1| 8.84| 5.2| 86.0|33.2|79.3|    469.0|\n",
      "|  4|0=Blood Donor| 32|  m|43.2|  52|30.6|22.6|18.9| 7.33|4.74| 80.0|33.8|75.7|    432.0|\n",
      "|  5|0=Blood Donor| 32|  m|39.2|74.1|32.6|24.8| 9.6| 9.15|4.32| 76.0|29.9|68.7|    392.0|\n",
      "+---+-------------+---+---+----+----+----+----+----+-----+----+-----+----+----+---------+\n",
      "only showing top 5 rows\n",
      "\n"
     ]
    }
   ],
   "source": [
    "df.withColumn('Alb_by_10', df['ALB'] * 10).show(5)"
   ]
  },
  {
   "cell_type": "code",
   "execution_count": 23,
   "id": "942561cd",
   "metadata": {},
   "outputs": [],
   "source": [
    "df = df.drop('Alb_by_10')"
   ]
  },
  {
   "cell_type": "code",
   "execution_count": 24,
   "id": "f6938255",
   "metadata": {},
   "outputs": [
    {
     "name": "stdout",
     "output_type": "stream",
     "text": [
      "+--------------------+-----+\n",
      "|            Category|count|\n",
      "+--------------------+-----+\n",
      "|       0=Blood Donor|  533|\n",
      "|         3=Cirrhosis|   30|\n",
      "|          2=Fibrosis|   21|\n",
      "|0s=suspect Blood ...|    7|\n",
      "|         1=Hepatitis|   24|\n",
      "+--------------------+-----+\n",
      "\n"
     ]
    }
   ],
   "source": [
    "df.groupBy('Category').count().show()"
   ]
  },
  {
   "cell_type": "code",
   "execution_count": 25,
   "id": "ebed1238",
   "metadata": {
    "scrolled": true
   },
   "outputs": [
    {
     "name": "stdout",
     "output_type": "stream",
     "text": [
      "+---+------------------+--------+------------------+------------------+-----------------+-----------------+------------------+\n",
      "|Age|          avg(_c0)|avg(Age)|          avg(AST)|          avg(BIL)|         avg(CHE)|        avg(CREA)|          avg(GGT)|\n",
      "+---+------------------+--------+------------------+------------------+-----------------+-----------------+------------------+\n",
      "| 65|            367.25|    65.0|           32.4625| 8.575000000000001|          7.84875|            74.25|              44.8|\n",
      "| 53|            359.45|    53.0|26.305000000000007|7.9449999999999985|8.800500000000001|             81.1|53.029999999999994|\n",
      "| 34|170.05263157894737|    34.0|27.426315789473687|  9.44736842105263|8.504736842105263|80.43684210526315|26.184210526315784|\n",
      "| 76|             316.5|    76.0|             30.15|              11.2|            4.675|            108.5|             67.95|\n",
      "| 27|             545.0|    27.0|              37.8|              10.0|             8.77|             55.2|              35.9|\n",
      "| 44|            271.35|    44.0|             25.73| 7.874999999999998|           8.6435|           77.475|18.400000000000006|\n",
      "| 47|            271.05|    47.0|            28.825|             8.985|7.671499999999999|            83.55|              50.2|\n",
      "| 52|339.77272727272725|    52.0| 27.00909090909091| 7.904545454545455|8.782272727272728|80.05454545454546|35.699999999999996|\n",
      "| 40|227.71428571428572|    40.0| 34.32857142857143| 9.985714285714286|8.089285714285714|84.35000000000001| 32.81428571428572|\n",
      "| 57|          452.1875|    57.0|28.406250000000004|            8.4625|           8.6475|73.01875000000001|          29.21875|\n",
      "| 54| 369.5833333333333|    54.0| 42.35833333333333|             9.025|             8.25|79.33333333333333| 42.61666666666667|\n",
      "| 48|             332.5|    48.0|27.692857142857143|10.803571428571429|           8.3775|74.91785714285713|26.182142857142853|\n",
      "| 19|             542.0|    19.0|              67.0|              12.0|             7.55|             62.0|              65.0|\n",
      "| 64| 449.1111111111111|    64.0|38.388888888888886|15.766666666666664|7.342222222222222|71.30000000000001|              39.8|\n",
      "| 41|          275.9375|    41.0|          31.36875|          21.88125|           7.5725|         74.86875|             40.55|\n",
      "| 43|            240.45|    43.0|            33.355| 7.155000000000001|8.389999999999999|            77.25|            28.115|\n",
      "| 37|             106.4|    37.0|             28.77|              9.43|8.093500000000002|             84.4|27.595000000000006|\n",
      "| 61| 403.3333333333333|    61.0| 46.91111111111111| 9.533333333333333|8.165555555555557|73.35555555555555| 82.52222222222223|\n",
      "| 35|210.04761904761904|    35.0| 25.81904761904762| 9.257142857142858|9.265714285714287|76.58095238095238|27.433333333333334|\n",
      "| 55|             337.0|    55.0| 29.77142857142857| 4.814285714285714| 8.06642857142857|78.14285714285714|31.864285714285717|\n",
      "+---+------------------+--------+------------------+------------------+-----------------+-----------------+------------------+\n",
      "only showing top 20 rows\n",
      "\n"
     ]
    }
   ],
   "source": [
    "df.groupBy('Age').mean().show()"
   ]
  },
  {
   "cell_type": "code",
   "execution_count": 26,
   "id": "628524d2",
   "metadata": {},
   "outputs": [],
   "source": [
    "# df.groupBy('Category').agg('GGT', 'sum').show()"
   ]
  },
  {
   "cell_type": "code",
   "execution_count": 27,
   "id": "f7fafd54",
   "metadata": {},
   "outputs": [
    {
     "name": "stdout",
     "output_type": "stream",
     "text": [
      "+--------------------+\n",
      "|            Category|\n",
      "+--------------------+\n",
      "|       0=Blood Donor|\n",
      "|         3=Cirrhosis|\n",
      "|          2=Fibrosis|\n",
      "|0s=suspect Blood ...|\n",
      "|         1=Hepatitis|\n",
      "+--------------------+\n",
      "\n"
     ]
    }
   ],
   "source": [
    "df.select('Category').distinct().show()"
   ]
  },
  {
   "cell_type": "code",
   "execution_count": 28,
   "id": "a966fe0c",
   "metadata": {},
   "outputs": [
    {
     "name": "stdout",
     "output_type": "stream",
     "text": [
      "+------------------------+\n",
      "|count(DISTINCT Category)|\n",
      "+------------------------+\n",
      "|                       5|\n",
      "+------------------------+\n",
      "\n"
     ]
    }
   ],
   "source": [
    "df.selectExpr('count(distinct(Category))').show()"
   ]
  },
  {
   "cell_type": "code",
   "execution_count": 29,
   "id": "4e3de465",
   "metadata": {},
   "outputs": [
    {
     "name": "stdout",
     "output_type": "stream",
     "text": [
      "['_c0', 'Category', 'Age', 'Sex', 'ALB', 'ALP', 'ALT', 'AST', 'BIL', 'CHE', 'CHOL', 'CREA', 'GGT', 'PROT']\n"
     ]
    }
   ],
   "source": [
    "print(df.columns)"
   ]
  },
  {
   "cell_type": "code",
   "execution_count": 30,
   "id": "1700cadf",
   "metadata": {},
   "outputs": [
    {
     "name": "stdout",
     "output_type": "stream",
     "text": [
      "+---+---+----+----+----+----+----+-----+----+-----+----+----+-------------+\n",
      "|Age|Sex| ALB| ALP| ALT| AST| BIL|  CHE|CHOL| CREA| GGT|PROT|     Category|\n",
      "+---+---+----+----+----+----+----+-----+----+-----+----+----+-------------+\n",
      "| 32|  m|38.5|52.5| 7.7|22.1| 7.5| 6.93|3.23|106.0|12.1|  69|0=Blood Donor|\n",
      "| 32|  m|38.5|70.3|  18|24.7| 3.9|11.17| 4.8| 74.0|15.6|76.5|0=Blood Donor|\n",
      "| 32|  m|46.9|74.7|36.2|52.6| 6.1| 8.84| 5.2| 86.0|33.2|79.3|0=Blood Donor|\n",
      "| 32|  m|43.2|  52|30.6|22.6|18.9| 7.33|4.74| 80.0|33.8|75.7|0=Blood Donor|\n",
      "| 32|  m|39.2|74.1|32.6|24.8| 9.6| 9.15|4.32| 76.0|29.9|68.7|0=Blood Donor|\n",
      "| 32|  m|41.6|43.3|18.5|19.7|12.3| 9.92|6.05|111.0|91.0|  74|0=Blood Donor|\n",
      "| 32|  m|46.3|41.3|17.5|17.8| 8.5| 7.01|4.79| 70.0|16.9|74.5|0=Blood Donor|\n",
      "| 32|  m|42.2|41.9|35.8|31.1|16.1| 5.82| 4.6|109.0|21.5|67.1|0=Blood Donor|\n",
      "| 32|  m|50.9|65.5|23.2|21.2| 6.9| 8.69| 4.1| 83.0|13.7|71.3|0=Blood Donor|\n",
      "| 32|  m|42.4|86.3|20.3|20.0|35.2| 5.46|4.45| 81.0|15.9|69.9|0=Blood Donor|\n",
      "| 32|  m|44.3|52.3|21.7|22.4|17.2| 4.15|3.57| 78.0|24.1|75.4|0=Blood Donor|\n",
      "| 33|  m|46.4|68.2|10.3|20.0| 5.7| 7.36| 4.3| 79.0|18.7|68.6|0=Blood Donor|\n",
      "| 33|  m|36.3|78.6|23.6|22.0| 7.0| 8.56|5.38| 78.0|19.4|68.7|0=Blood Donor|\n",
      "| 33|  m|  39|51.7|15.9|24.0| 6.8| 6.46|3.38| 65.0| 7.0|70.4|0=Blood Donor|\n",
      "| 33|  m|38.7|39.8|22.5|23.0| 4.1| 4.63|4.97| 63.0|15.2|71.9|0=Blood Donor|\n",
      "| 33|  m|41.8|  65|33.1|38.0| 6.6| 8.83|4.43| 71.0|24.0|72.7|0=Blood Donor|\n",
      "| 33|  m|40.9|  73|17.2|22.9|10.0| 6.98|5.22| 90.0|14.7|72.4|0=Blood Donor|\n",
      "| 33|  m|45.2|88.3|32.4|31.2|10.1| 9.78|5.51|102.0|48.5|76.5|0=Blood Donor|\n",
      "| 33|  m|36.6|57.1|38.9|40.3|24.9| 9.62| 5.5|112.0|27.6|69.3|0=Blood Donor|\n",
      "| 33|  m|  42|63.1|32.6|34.9|11.2| 7.01|4.05|105.0|19.1|68.1|0=Blood Donor|\n",
      "+---+---+----+----+----+----+----+-----+----+-----+----+----+-------------+\n",
      "only showing top 20 rows\n",
      "\n"
     ]
    }
   ],
   "source": [
    "df.select('Age', 'Sex', 'ALB', 'ALP', 'ALT', 'AST', 'BIL', 'CHE', 'CHOL', 'CREA', 'GGT', 'PROT', 'Category').show()"
   ]
  },
  {
   "cell_type": "code",
   "execution_count": 31,
   "id": "9f96a2b9",
   "metadata": {},
   "outputs": [],
   "source": [
    "df = df.select('Age', 'Sex', 'ALB', 'ALP', 'ALT', 'AST', 'BIL', 'CHE', 'CHOL', 'CREA', 'GGT', 'PROT', 'Category')"
   ]
  },
  {
   "cell_type": "code",
   "execution_count": 32,
   "id": "67da2702",
   "metadata": {},
   "outputs": [],
   "source": [
    "(df.write.format('csv')\n",
    "     .option('header', 'true')\n",
    "     .option('infrSchema', 'true')\n",
    "     .save('./data/new_hcvdata.csv'))"
   ]
  },
  {
   "cell_type": "code",
   "execution_count": 33,
   "id": "729ff2d4",
   "metadata": {},
   "outputs": [],
   "source": [
    "sqlc = SQLContext(sc) "
   ]
  },
  {
   "cell_type": "code",
   "execution_count": 34,
   "id": "60e92e82",
   "metadata": {},
   "outputs": [],
   "source": [
    "df.registerTempTable('HCVTable')"
   ]
  },
  {
   "cell_type": "code",
   "execution_count": 35,
   "id": "0328dea1",
   "metadata": {},
   "outputs": [
    {
     "name": "stdout",
     "output_type": "stream",
     "text": [
      "+---+---+----+----+----+----+----+-----+----+-----+----+----+-------------+\n",
      "|Age|Sex| ALB| ALP| ALT| AST| BIL|  CHE|CHOL| CREA| GGT|PROT|     Category|\n",
      "+---+---+----+----+----+----+----+-----+----+-----+----+----+-------------+\n",
      "| 32|  m|38.5|52.5| 7.7|22.1| 7.5| 6.93|3.23|106.0|12.1|  69|0=Blood Donor|\n",
      "| 32|  m|38.5|70.3|  18|24.7| 3.9|11.17| 4.8| 74.0|15.6|76.5|0=Blood Donor|\n",
      "| 32|  m|46.9|74.7|36.2|52.6| 6.1| 8.84| 5.2| 86.0|33.2|79.3|0=Blood Donor|\n",
      "| 32|  m|43.2|  52|30.6|22.6|18.9| 7.33|4.74| 80.0|33.8|75.7|0=Blood Donor|\n",
      "| 32|  m|39.2|74.1|32.6|24.8| 9.6| 9.15|4.32| 76.0|29.9|68.7|0=Blood Donor|\n",
      "| 32|  m|41.6|43.3|18.5|19.7|12.3| 9.92|6.05|111.0|91.0|  74|0=Blood Donor|\n",
      "| 32|  m|46.3|41.3|17.5|17.8| 8.5| 7.01|4.79| 70.0|16.9|74.5|0=Blood Donor|\n",
      "| 32|  m|42.2|41.9|35.8|31.1|16.1| 5.82| 4.6|109.0|21.5|67.1|0=Blood Donor|\n",
      "| 32|  m|50.9|65.5|23.2|21.2| 6.9| 8.69| 4.1| 83.0|13.7|71.3|0=Blood Donor|\n",
      "| 32|  m|42.4|86.3|20.3|20.0|35.2| 5.46|4.45| 81.0|15.9|69.9|0=Blood Donor|\n",
      "| 32|  m|44.3|52.3|21.7|22.4|17.2| 4.15|3.57| 78.0|24.1|75.4|0=Blood Donor|\n",
      "| 33|  m|46.4|68.2|10.3|20.0| 5.7| 7.36| 4.3| 79.0|18.7|68.6|0=Blood Donor|\n",
      "| 33|  m|36.3|78.6|23.6|22.0| 7.0| 8.56|5.38| 78.0|19.4|68.7|0=Blood Donor|\n",
      "| 33|  m|  39|51.7|15.9|24.0| 6.8| 6.46|3.38| 65.0| 7.0|70.4|0=Blood Donor|\n",
      "| 33|  m|38.7|39.8|22.5|23.0| 4.1| 4.63|4.97| 63.0|15.2|71.9|0=Blood Donor|\n",
      "| 33|  m|41.8|  65|33.1|38.0| 6.6| 8.83|4.43| 71.0|24.0|72.7|0=Blood Donor|\n",
      "| 33|  m|40.9|  73|17.2|22.9|10.0| 6.98|5.22| 90.0|14.7|72.4|0=Blood Donor|\n",
      "| 33|  m|45.2|88.3|32.4|31.2|10.1| 9.78|5.51|102.0|48.5|76.5|0=Blood Donor|\n",
      "| 33|  m|36.6|57.1|38.9|40.3|24.9| 9.62| 5.5|112.0|27.6|69.3|0=Blood Donor|\n",
      "| 33|  m|  42|63.1|32.6|34.9|11.2| 7.01|4.05|105.0|19.1|68.1|0=Blood Donor|\n",
      "+---+---+----+----+----+----+----+-----+----+-----+----+----+-------------+\n",
      "only showing top 20 rows\n",
      "\n"
     ]
    }
   ],
   "source": [
    "sqlc.sql(\"SELECT * FROM HCVTable\").show()"
   ]
  },
  {
   "cell_type": "code",
   "execution_count": null,
   "id": "9a0e2f99",
   "metadata": {},
   "outputs": [],
   "source": []
  },
  {
   "cell_type": "code",
   "execution_count": null,
   "id": "b8257e45",
   "metadata": {},
   "outputs": [],
   "source": []
  },
  {
   "cell_type": "code",
   "execution_count": null,
   "id": "37958490",
   "metadata": {},
   "outputs": [],
   "source": []
  },
  {
   "cell_type": "code",
   "execution_count": null,
   "id": "ebc284b7",
   "metadata": {},
   "outputs": [],
   "source": []
  },
  {
   "cell_type": "code",
   "execution_count": null,
   "id": "c6ebb5d5",
   "metadata": {},
   "outputs": [],
   "source": []
  },
  {
   "cell_type": "code",
   "execution_count": null,
   "id": "8a73a457",
   "metadata": {},
   "outputs": [],
   "source": []
  },
  {
   "cell_type": "code",
   "execution_count": null,
   "id": "82afa7c7",
   "metadata": {},
   "outputs": [],
   "source": []
  }
 ],
 "metadata": {
  "kernelspec": {
   "display_name": "Python 3",
   "language": "python",
   "name": "python3"
  },
  "language_info": {
   "codemirror_mode": {
    "name": "ipython",
    "version": 3
   },
   "file_extension": ".py",
   "mimetype": "text/x-python",
   "name": "python",
   "nbconvert_exporter": "python",
   "pygments_lexer": "ipython3",
   "version": "3.7.10"
  }
 },
 "nbformat": 4,
 "nbformat_minor": 5
}
