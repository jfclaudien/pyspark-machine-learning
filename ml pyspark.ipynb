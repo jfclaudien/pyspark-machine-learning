{
 "cells": [
  {
   "cell_type": "code",
   "execution_count": 1,
   "id": "6b09b04d",
   "metadata": {},
   "outputs": [
    {
     "name": "stdout",
     "output_type": "stream",
     "text": [
      "You are working with 1 cores\n"
     ]
    },
    {
     "data": {
      "text/html": [
       "\n",
       "            <div>\n",
       "                <p><b>SparkSession - in-memory</b></p>\n",
       "                \n",
       "        <div>\n",
       "            <p><b>SparkContext</b></p>\n",
       "\n",
       "            <p><a href=\"http://host.docker.internal:4041\">Spark UI</a></p>\n",
       "\n",
       "            <dl>\n",
       "              <dt>Version</dt>\n",
       "                <dd><code>v3.0.2</code></dd>\n",
       "              <dt>Master</dt>\n",
       "                <dd><code>local[*]</code></dd>\n",
       "              <dt>AppName</dt>\n",
       "                <dd><code>SparkSQLGooglePlaystore</code></dd>\n",
       "            </dl>\n",
       "        </div>\n",
       "        \n",
       "            </div>\n",
       "        "
      ],
      "text/plain": [
       "<pyspark.sql.session.SparkSession at 0x269334ffe88>"
      ]
     },
     "execution_count": 1,
     "metadata": {},
     "output_type": "execute_result"
    }
   ],
   "source": [
    "import pyspark\n",
    "from pyspark import SparkContext\n",
    "from pyspark.sql import SparkSession\n",
    "\n",
    "spark = SparkSession.builder.master('local[*]').appName('SparkSQLGooglePlaystore').getOrCreate()\n",
    "cores = spark._jsc.sc().getExecutorMemoryStatus().keySet().size()\n",
    "print(f'You are working with {cores} cores')\n",
    "spark"
   ]
  },
  {
   "cell_type": "code",
   "execution_count": 2,
   "id": "f598c351",
   "metadata": {},
   "outputs": [],
   "source": [
    "from pyspark.sql.types import StructType, StructField, IntegerType, DoubleType, StringType"
   ]
  },
  {
   "cell_type": "code",
   "execution_count": 3,
   "id": "4b29ca8f",
   "metadata": {},
   "outputs": [],
   "source": [
    "df_schema = StructType([\n",
    "        StructField('_c0', IntegerType(), True),\n",
    "        StructField('Category', StringType(), True),\n",
    "        StructField('Age', IntegerType(), True),\n",
    "        StructField('Sex', StringType(), True),\n",
    "        StructField('ALB', DoubleType(), True),\n",
    "        StructField('ALP', DoubleType(), True),\n",
    "        StructField('ALT', DoubleType(), True),\n",
    "        StructField('AST', DoubleType(), True),\n",
    "        StructField('BIL', DoubleType(), True),\n",
    "        StructField('CHE', DoubleType(), True),\n",
    "        StructField('CHOL', DoubleType(), True),\n",
    "        StructField('CREA', DoubleType(), True),\n",
    "        StructField('GGT', DoubleType(), True),\n",
    "        StructField('PROT', DoubleType(), True),\n",
    "    ])"
   ]
  },
  {
   "cell_type": "code",
   "execution_count": 4,
   "id": "7c829d8f",
   "metadata": {},
   "outputs": [],
   "source": [
    "df = spark.read.csv(\"./data/hcvdat0.csv\", schema= df_schema, header= True, inferSchema= True)"
   ]
  },
  {
   "cell_type": "code",
   "execution_count": 5,
   "id": "d5fe0066",
   "metadata": {},
   "outputs": [
    {
     "data": {
      "text/html": [
       "<div>\n",
       "<style scoped>\n",
       "    .dataframe tbody tr th:only-of-type {\n",
       "        vertical-align: middle;\n",
       "    }\n",
       "\n",
       "    .dataframe tbody tr th {\n",
       "        vertical-align: top;\n",
       "    }\n",
       "\n",
       "    .dataframe thead th {\n",
       "        text-align: right;\n",
       "    }\n",
       "</style>\n",
       "<table border=\"1\" class=\"dataframe\">\n",
       "  <thead>\n",
       "    <tr style=\"text-align: right;\">\n",
       "      <th></th>\n",
       "      <th>_c0</th>\n",
       "      <th>Category</th>\n",
       "      <th>Age</th>\n",
       "      <th>Sex</th>\n",
       "      <th>ALB</th>\n",
       "      <th>ALP</th>\n",
       "      <th>ALT</th>\n",
       "      <th>AST</th>\n",
       "      <th>BIL</th>\n",
       "      <th>CHE</th>\n",
       "      <th>CHOL</th>\n",
       "      <th>CREA</th>\n",
       "      <th>GGT</th>\n",
       "      <th>PROT</th>\n",
       "    </tr>\n",
       "  </thead>\n",
       "  <tbody>\n",
       "    <tr>\n",
       "      <th>0</th>\n",
       "      <td>1</td>\n",
       "      <td>0=Blood Donor</td>\n",
       "      <td>32</td>\n",
       "      <td>m</td>\n",
       "      <td>38.5</td>\n",
       "      <td>52.5</td>\n",
       "      <td>7.7</td>\n",
       "      <td>22.1</td>\n",
       "      <td>7.5</td>\n",
       "      <td>6.93</td>\n",
       "      <td>3.23</td>\n",
       "      <td>106.0</td>\n",
       "      <td>12.1</td>\n",
       "      <td>69.0</td>\n",
       "    </tr>\n",
       "    <tr>\n",
       "      <th>1</th>\n",
       "      <td>2</td>\n",
       "      <td>0=Blood Donor</td>\n",
       "      <td>32</td>\n",
       "      <td>m</td>\n",
       "      <td>38.5</td>\n",
       "      <td>70.3</td>\n",
       "      <td>18.0</td>\n",
       "      <td>24.7</td>\n",
       "      <td>3.9</td>\n",
       "      <td>11.17</td>\n",
       "      <td>4.80</td>\n",
       "      <td>74.0</td>\n",
       "      <td>15.6</td>\n",
       "      <td>76.5</td>\n",
       "    </tr>\n",
       "    <tr>\n",
       "      <th>2</th>\n",
       "      <td>3</td>\n",
       "      <td>0=Blood Donor</td>\n",
       "      <td>32</td>\n",
       "      <td>m</td>\n",
       "      <td>46.9</td>\n",
       "      <td>74.7</td>\n",
       "      <td>36.2</td>\n",
       "      <td>52.6</td>\n",
       "      <td>6.1</td>\n",
       "      <td>8.84</td>\n",
       "      <td>5.20</td>\n",
       "      <td>86.0</td>\n",
       "      <td>33.2</td>\n",
       "      <td>79.3</td>\n",
       "    </tr>\n",
       "    <tr>\n",
       "      <th>3</th>\n",
       "      <td>4</td>\n",
       "      <td>0=Blood Donor</td>\n",
       "      <td>32</td>\n",
       "      <td>m</td>\n",
       "      <td>43.2</td>\n",
       "      <td>52.0</td>\n",
       "      <td>30.6</td>\n",
       "      <td>22.6</td>\n",
       "      <td>18.9</td>\n",
       "      <td>7.33</td>\n",
       "      <td>4.74</td>\n",
       "      <td>80.0</td>\n",
       "      <td>33.8</td>\n",
       "      <td>75.7</td>\n",
       "    </tr>\n",
       "    <tr>\n",
       "      <th>4</th>\n",
       "      <td>5</td>\n",
       "      <td>0=Blood Donor</td>\n",
       "      <td>32</td>\n",
       "      <td>m</td>\n",
       "      <td>39.2</td>\n",
       "      <td>74.1</td>\n",
       "      <td>32.6</td>\n",
       "      <td>24.8</td>\n",
       "      <td>9.6</td>\n",
       "      <td>9.15</td>\n",
       "      <td>4.32</td>\n",
       "      <td>76.0</td>\n",
       "      <td>29.9</td>\n",
       "      <td>68.7</td>\n",
       "    </tr>\n",
       "  </tbody>\n",
       "</table>\n",
       "</div>"
      ],
      "text/plain": [
       "   _c0       Category  Age Sex   ALB   ALP   ALT   AST   BIL    CHE  CHOL  \\\n",
       "0    1  0=Blood Donor   32   m  38.5  52.5   7.7  22.1   7.5   6.93  3.23   \n",
       "1    2  0=Blood Donor   32   m  38.5  70.3  18.0  24.7   3.9  11.17  4.80   \n",
       "2    3  0=Blood Donor   32   m  46.9  74.7  36.2  52.6   6.1   8.84  5.20   \n",
       "3    4  0=Blood Donor   32   m  43.2  52.0  30.6  22.6  18.9   7.33  4.74   \n",
       "4    5  0=Blood Donor   32   m  39.2  74.1  32.6  24.8   9.6   9.15  4.32   \n",
       "\n",
       "    CREA   GGT  PROT  \n",
       "0  106.0  12.1  69.0  \n",
       "1   74.0  15.6  76.5  \n",
       "2   86.0  33.2  79.3  \n",
       "3   80.0  33.8  75.7  \n",
       "4   76.0  29.9  68.7  "
      ]
     },
     "execution_count": 5,
     "metadata": {},
     "output_type": "execute_result"
    }
   ],
   "source": [
    "df.limit(5).toPandas()"
   ]
  },
  {
   "cell_type": "code",
   "execution_count": 6,
   "id": "409ceb42",
   "metadata": {},
   "outputs": [
    {
     "name": "stdout",
     "output_type": "stream",
     "text": [
      "root\n",
      " |-- _c0: integer (nullable = true)\n",
      " |-- Category: string (nullable = true)\n",
      " |-- Age: integer (nullable = true)\n",
      " |-- Sex: string (nullable = true)\n",
      " |-- ALB: double (nullable = true)\n",
      " |-- ALP: double (nullable = true)\n",
      " |-- ALT: double (nullable = true)\n",
      " |-- AST: double (nullable = true)\n",
      " |-- BIL: double (nullable = true)\n",
      " |-- CHE: double (nullable = true)\n",
      " |-- CHOL: double (nullable = true)\n",
      " |-- CREA: double (nullable = true)\n",
      " |-- GGT: double (nullable = true)\n",
      " |-- PROT: double (nullable = true)\n",
      "\n"
     ]
    }
   ],
   "source": [
    "df.printSchema()"
   ]
  },
  {
   "cell_type": "code",
   "execution_count": 7,
   "id": "5f0b6da9",
   "metadata": {},
   "outputs": [
    {
     "name": "stdout",
     "output_type": "stream",
     "text": [
      "['_c0', 'Category', 'Age', 'Sex', 'ALB', 'ALP', 'ALT', 'AST', 'BIL', 'CHE', 'CHOL', 'CREA', 'GGT', 'PROT']\n"
     ]
    }
   ],
   "source": [
    "print(df.columns)"
   ]
  },
  {
   "cell_type": "code",
   "execution_count": 8,
   "id": "19371bb7",
   "metadata": {},
   "outputs": [],
   "source": [
    "df = df.select('Age', 'Sex', 'ALB', 'ALP', 'ALT', 'AST', 'BIL', 'CHE', 'CHOL', 'CREA', 'GGT', 'PROT', 'Category' )"
   ]
  },
  {
   "cell_type": "code",
   "execution_count": 9,
   "id": "2e804633",
   "metadata": {},
   "outputs": [
    {
     "name": "stdout",
     "output_type": "stream",
     "text": [
      "+---+---+----+----+----+----+---+-----+----+-----+----+----+-------------+\n",
      "|Age|Sex| ALB| ALP| ALT| AST|BIL|  CHE|CHOL| CREA| GGT|PROT|     Category|\n",
      "+---+---+----+----+----+----+---+-----+----+-----+----+----+-------------+\n",
      "| 32|  m|38.5|52.5| 7.7|22.1|7.5| 6.93|3.23|106.0|12.1|69.0|0=Blood Donor|\n",
      "| 32|  m|38.5|70.3|18.0|24.7|3.9|11.17| 4.8| 74.0|15.6|76.5|0=Blood Donor|\n",
      "| 32|  m|46.9|74.7|36.2|52.6|6.1| 8.84| 5.2| 86.0|33.2|79.3|0=Blood Donor|\n",
      "+---+---+----+----+----+----+---+-----+----+-----+----+----+-------------+\n",
      "only showing top 3 rows\n",
      "\n"
     ]
    }
   ],
   "source": [
    "df.show(3)"
   ]
  },
  {
   "cell_type": "code",
   "execution_count": 10,
   "id": "5bfef94c",
   "metadata": {},
   "outputs": [
    {
     "data": {
      "text/plain": [
       "DataFrame[Age: int, Sex: string, ALB: double, ALP: double, ALT: double, AST: double, BIL: double, CHE: double, CHOL: double, CREA: double, GGT: double, PROT: double, Category: string]"
      ]
     },
     "execution_count": 10,
     "metadata": {},
     "output_type": "execute_result"
    }
   ],
   "source": [
    "df.fillna(0)"
   ]
  },
  {
   "cell_type": "code",
   "execution_count": 11,
   "id": "4a97838c",
   "metadata": {},
   "outputs": [
    {
     "name": "stdout",
     "output_type": "stream",
     "text": [
      "shape: (615, 13)\n"
     ]
    }
   ],
   "source": [
    "print(f'shape: {(df.count(), len(df.columns))}')"
   ]
  },
  {
   "cell_type": "code",
   "execution_count": 12,
   "id": "b639fa79",
   "metadata": {},
   "outputs": [
    {
     "name": "stdout",
     "output_type": "stream",
     "text": [
      "+--------------------+-----+\n",
      "|            Category|count|\n",
      "+--------------------+-----+\n",
      "|       0=Blood Donor|  533|\n",
      "|         3=Cirrhosis|   30|\n",
      "|          2=Fibrosis|   21|\n",
      "|0s=suspect Blood ...|    7|\n",
      "|         1=Hepatitis|   24|\n",
      "+--------------------+-----+\n",
      "\n"
     ]
    }
   ],
   "source": [
    "df.groupBy(df['Category']).count().show()"
   ]
  },
  {
   "cell_type": "code",
   "execution_count": 13,
   "id": "3b7202e3",
   "metadata": {},
   "outputs": [
    {
     "name": "stdout",
     "output_type": "stream",
     "text": [
      "+---+\n",
      "|Sex|\n",
      "+---+\n",
      "|  m|\n",
      "|  f|\n",
      "+---+\n",
      "\n"
     ]
    }
   ],
   "source": [
    "df.select(df['Sex']).distinct().show()"
   ]
  },
  {
   "cell_type": "code",
   "execution_count": 14,
   "id": "99a24bc8",
   "metadata": {},
   "outputs": [],
   "source": [
    "from pyspark.ml.feature import VectorAssembler, StringIndexer"
   ]
  },
  {
   "cell_type": "code",
   "execution_count": 15,
   "id": "e79da093",
   "metadata": {},
   "outputs": [],
   "source": [
    "df = (StringIndexer(inputCol= 'Sex', outputCol= 'Gender')\n",
    "      .fit(df)\n",
    "      .transform(df))\n",
    "\n",
    "df = (StringIndexer(inputCol= 'Category', outputCol= 'Target')\n",
    "      .fit(df)\n",
    "      .transform(df))"
   ]
  },
  {
   "cell_type": "code",
   "execution_count": 16,
   "id": "3da6e2e6",
   "metadata": {},
   "outputs": [],
   "source": [
    "col_to_del = ['Sex', 'Category']\n",
    "df = df.drop(*col_to_del)"
   ]
  },
  {
   "cell_type": "code",
   "execution_count": 17,
   "id": "a8c76651",
   "metadata": {},
   "outputs": [
    {
     "name": "stdout",
     "output_type": "stream",
     "text": [
      "+---+----+----+----+----+----+-----+----+-----+----+----+------+------+\n",
      "|Age| ALB| ALP| ALT| AST| BIL|  CHE|CHOL| CREA| GGT|PROT|Gender|Target|\n",
      "+---+----+----+----+----+----+-----+----+-----+----+----+------+------+\n",
      "| 32|38.5|52.5| 7.7|22.1| 7.5| 6.93|3.23|106.0|12.1|69.0|   0.0|   0.0|\n",
      "| 32|38.5|70.3|18.0|24.7| 3.9|11.17| 4.8| 74.0|15.6|76.5|   0.0|   0.0|\n",
      "| 32|46.9|74.7|36.2|52.6| 6.1| 8.84| 5.2| 86.0|33.2|79.3|   0.0|   0.0|\n",
      "| 32|43.2|52.0|30.6|22.6|18.9| 7.33|4.74| 80.0|33.8|75.7|   0.0|   0.0|\n",
      "| 32|39.2|74.1|32.6|24.8| 9.6| 9.15|4.32| 76.0|29.9|68.7|   0.0|   0.0|\n",
      "+---+----+----+----+----+----+-----+----+-----+----+----+------+------+\n",
      "only showing top 5 rows\n",
      "\n"
     ]
    }
   ],
   "source": [
    "df.show(5)"
   ]
  },
  {
   "cell_type": "code",
   "execution_count": 18,
   "id": "79dfef69",
   "metadata": {},
   "outputs": [
    {
     "name": "stdout",
     "output_type": "stream",
     "text": [
      "['Age', 'ALB', 'ALP', 'ALT', 'AST', 'BIL', 'CHE', 'CHOL', 'CREA', 'GGT', 'PROT', 'Gender', 'Target']\n"
     ]
    }
   ],
   "source": [
    "print(df.columns)"
   ]
  },
  {
   "cell_type": "code",
   "execution_count": 19,
   "id": "55774564",
   "metadata": {},
   "outputs": [
    {
     "name": "stdout",
     "output_type": "stream",
     "text": [
      "root\n",
      " |-- Age: integer (nullable = true)\n",
      " |-- ALB: double (nullable = true)\n",
      " |-- ALP: double (nullable = true)\n",
      " |-- ALT: double (nullable = true)\n",
      " |-- AST: double (nullable = true)\n",
      " |-- BIL: double (nullable = true)\n",
      " |-- CHE: double (nullable = true)\n",
      " |-- CHOL: double (nullable = true)\n",
      " |-- CREA: double (nullable = true)\n",
      " |-- GGT: double (nullable = true)\n",
      " |-- PROT: double (nullable = true)\n",
      " |-- Gender: double (nullable = false)\n",
      " |-- Target: double (nullable = false)\n",
      "\n"
     ]
    }
   ],
   "source": [
    "df.printSchema()"
   ]
  },
  {
   "cell_type": "code",
   "execution_count": 20,
   "id": "8953acea",
   "metadata": {},
   "outputs": [],
   "source": [
    "cols = ['Age', 'Gender', 'ALB', 'ALP', 'ALT', 'AST', 'BIL', 'CHE', 'CHOL', 'CREA', 'GGT', 'PROT', 'Target']"
   ]
  },
  {
   "cell_type": "code",
   "execution_count": 21,
   "id": "209ff49e",
   "metadata": {},
   "outputs": [],
   "source": [
    "vec_as_df = VectorAssembler(inputCols= cols, outputCol= 'Features').transform(df)"
   ]
  },
  {
   "cell_type": "code",
   "execution_count": 22,
   "id": "b2114e0a",
   "metadata": {},
   "outputs": [
    {
     "name": "stdout",
     "output_type": "stream",
     "text": [
      "+---+----+----+----+----+---+-----+----+-----+----+----+------+------+--------------------+\n",
      "|Age| ALB| ALP| ALT| AST|BIL|  CHE|CHOL| CREA| GGT|PROT|Gender|Target|            Features|\n",
      "+---+----+----+----+----+---+-----+----+-----+----+----+------+------+--------------------+\n",
      "| 32|38.5|52.5| 7.7|22.1|7.5| 6.93|3.23|106.0|12.1|69.0|   0.0|   0.0|[32.0,0.0,38.5,52...|\n",
      "| 32|38.5|70.3|18.0|24.7|3.9|11.17| 4.8| 74.0|15.6|76.5|   0.0|   0.0|[32.0,0.0,38.5,70...|\n",
      "| 32|46.9|74.7|36.2|52.6|6.1| 8.84| 5.2| 86.0|33.2|79.3|   0.0|   0.0|[32.0,0.0,46.9,74...|\n",
      "+---+----+----+----+----+---+-----+----+-----+----+----+------+------+--------------------+\n",
      "only showing top 3 rows\n",
      "\n"
     ]
    }
   ],
   "source": [
    "vec_as_df.show(3)"
   ]
  },
  {
   "cell_type": "code",
   "execution_count": 23,
   "id": "a0d534e6",
   "metadata": {},
   "outputs": [],
   "source": [
    "X_train, X_test = vec_as_df.randomSplit([0.7, 0.3])"
   ]
  },
  {
   "cell_type": "code",
   "execution_count": 25,
   "id": "8aaa7174",
   "metadata": {},
   "outputs": [],
   "source": [
    "# X_test.count()"
   ]
  },
  {
   "cell_type": "code",
   "execution_count": null,
   "id": "43501bdb",
   "metadata": {},
   "outputs": [],
   "source": []
  },
  {
   "cell_type": "code",
   "execution_count": null,
   "id": "1e562ce2",
   "metadata": {},
   "outputs": [],
   "source": []
  },
  {
   "cell_type": "code",
   "execution_count": null,
   "id": "06e3a2d4",
   "metadata": {},
   "outputs": [],
   "source": []
  },
  {
   "cell_type": "code",
   "execution_count": null,
   "id": "a9e1ee69",
   "metadata": {},
   "outputs": [],
   "source": []
  },
  {
   "cell_type": "code",
   "execution_count": null,
   "id": "f6c5c14a",
   "metadata": {},
   "outputs": [],
   "source": []
  },
  {
   "cell_type": "code",
   "execution_count": null,
   "id": "716a2c66",
   "metadata": {},
   "outputs": [],
   "source": []
  }
 ],
 "metadata": {
  "kernelspec": {
   "display_name": "Python 3",
   "language": "python",
   "name": "python3"
  },
  "language_info": {
   "codemirror_mode": {
    "name": "ipython",
    "version": 3
   },
   "file_extension": ".py",
   "mimetype": "text/x-python",
   "name": "python",
   "nbconvert_exporter": "python",
   "pygments_lexer": "ipython3",
   "version": "3.7.10"
  }
 },
 "nbformat": 4,
 "nbformat_minor": 5
}
